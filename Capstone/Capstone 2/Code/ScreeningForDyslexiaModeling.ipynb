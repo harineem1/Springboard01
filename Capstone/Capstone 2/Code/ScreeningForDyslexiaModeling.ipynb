{
 "cells": [
  {
   "cell_type": "markdown",
   "metadata": {},
   "source": [
    "Eye tracking has been gaining in popularity over the past decade as a window into observers’ visual and cognitive processes. This project uses eye movement data from dyslexic kids to predict the possibility of dyslexia based on measured eye movements. The source for this data is available at https://doi.org/10.6084/m9.figshare.c.3521379.v1"
   ]
  },
  {
   "cell_type": "code",
   "execution_count": null,
   "metadata": {},
   "outputs": [],
   "source": []
  },
  {
   "cell_type": "code",
   "execution_count": 24,
   "metadata": {},
   "outputs": [],
   "source": [
    "import pandas as pd\n",
    "import matplotlib.pyplot as plt\n",
    "import numpy as np\n",
    "import seaborn as sns\n",
    "import matplotlib.gridspec as gridspec\n",
    "import seaborn as sns\n",
    "from matplotlib import mlab\n",
    "from sklearn.model_selection import  train_test_split\n",
    "from sklearn.linear_model import LogisticRegression\n",
    "from sklearn.preprocessing import StandardScaler\n",
    "from sklearn.metrics import classification_report, confusion_matrix, roc_curve\n",
    "from scipy.stats import norm\n",
    "labels = [1, 1, 0, 0] #1: Disabled\n",
    "gender = [1,0,1,0] #1: Male"
   ]
  },
  {
   "cell_type": "code",
   "execution_count": 17,
   "metadata": {},
   "outputs": [],
   "source": [
    "def drawConfusionMatrix(cnf_matrix):\n",
    "    print(cnf_matrix)\n",
    "    class_names=[0,1] # name  of classes\n",
    "    fig, ax = plt.subplots()\n",
    "    tick_marks = np.arange(len(class_names))\n",
    "    plt.xticks(tick_marks, class_names)\n",
    "    plt.yticks(tick_marks, class_names)\n",
    "    # create heatmap\n",
    "    sns.heatmap(pd.DataFrame(cnf_matrix), annot=True, cmap=\"YlGnBu\" ,fmt='g')\n",
    "    ax.xaxis.set_label_position(\"top\")\n",
    "    plt.tight_layout()\n",
    "    plt.title('Confusion matrix', y=1.1)\n",
    "    plt.ylabel('Actual label')\n",
    "    plt.xlabel('Predicted label')"
   ]
  },
  {
   "cell_type": "markdown",
   "metadata": {},
   "source": [
    "Read the processed file with the features - the file contains one row per subject, 185 subjects and 52 features per subject. The data quality is pretty high. In the previous modules the data has been tested for the data to not cotain any missing values in any of the columns."
   ]
  },
  {
   "cell_type": "code",
   "execution_count": 7,
   "metadata": {},
   "outputs": [
    {
     "name": "stdout",
     "output_type": "stream",
     "text": [
      "Input Data Shape =  (185, 53)\n"
     ]
    },
    {
     "data": {
      "text/html": [
       "<div>\n",
       "<style scoped>\n",
       "    .dataframe tbody tr th:only-of-type {\n",
       "        vertical-align: middle;\n",
       "    }\n",
       "\n",
       "    .dataframe tbody tr th {\n",
       "        vertical-align: top;\n",
       "    }\n",
       "\n",
       "    .dataframe thead th {\n",
       "        text-align: right;\n",
       "    }\n",
       "</style>\n",
       "<table border=\"1\" class=\"dataframe\">\n",
       "  <thead>\n",
       "    <tr style=\"text-align: right;\">\n",
       "      <th></th>\n",
       "      <th>DistanceL</th>\n",
       "      <th>DistanceR</th>\n",
       "      <th>Gender</th>\n",
       "      <th>Label</th>\n",
       "      <th>Subject</th>\n",
       "      <th>LTypeFSum</th>\n",
       "      <th>LTypeSSum</th>\n",
       "      <th>LTypeFCount</th>\n",
       "      <th>LTypeSCount</th>\n",
       "      <th>LTypeFMean</th>\n",
       "      <th>...</th>\n",
       "      <th>LVerDirNMean</th>\n",
       "      <th>RVerDirUSum</th>\n",
       "      <th>RVerDirDSum</th>\n",
       "      <th>RVerDirNSum</th>\n",
       "      <th>RVerDirUCount</th>\n",
       "      <th>RVerDirDCount</th>\n",
       "      <th>RVerDirNCount</th>\n",
       "      <th>RVerDirUMean</th>\n",
       "      <th>RVerDirDMean</th>\n",
       "      <th>RVerDirNMean</th>\n",
       "    </tr>\n",
       "  </thead>\n",
       "  <tbody>\n",
       "    <tr>\n",
       "      <th>0</th>\n",
       "      <td>13413.296257</td>\n",
       "      <td>13580.306540</td>\n",
       "      <td>1</td>\n",
       "      <td>0</td>\n",
       "      <td>111GM3</td>\n",
       "      <td>15320.0</td>\n",
       "      <td>14520.0</td>\n",
       "      <td>171</td>\n",
       "      <td>172</td>\n",
       "      <td>89.590643</td>\n",
       "      <td>...</td>\n",
       "      <td>62.027027</td>\n",
       "      <td>11220.0</td>\n",
       "      <td>9900.0</td>\n",
       "      <td>8860.0</td>\n",
       "      <td>262</td>\n",
       "      <td>235</td>\n",
       "      <td>148</td>\n",
       "      <td>42.824427</td>\n",
       "      <td>42.127660</td>\n",
       "      <td>60.272109</td>\n",
       "    </tr>\n",
       "    <tr>\n",
       "      <th>1</th>\n",
       "      <td>8788.682167</td>\n",
       "      <td>8509.062191</td>\n",
       "      <td>0</td>\n",
       "      <td>1</td>\n",
       "      <td>111JA2</td>\n",
       "      <td>22100.0</td>\n",
       "      <td>17840.0</td>\n",
       "      <td>288</td>\n",
       "      <td>288</td>\n",
       "      <td>77.003484</td>\n",
       "      <td>...</td>\n",
       "      <td>43.737024</td>\n",
       "      <td>13740.0</td>\n",
       "      <td>13520.0</td>\n",
       "      <td>12680.0</td>\n",
       "      <td>324</td>\n",
       "      <td>317</td>\n",
       "      <td>302</td>\n",
       "      <td>42.407407</td>\n",
       "      <td>42.784810</td>\n",
       "      <td>41.986755</td>\n",
       "    </tr>\n",
       "    <tr>\n",
       "      <th>2</th>\n",
       "      <td>9765.357380</td>\n",
       "      <td>10281.893102</td>\n",
       "      <td>1</td>\n",
       "      <td>1</td>\n",
       "      <td>111RP1</td>\n",
       "      <td>24780.0</td>\n",
       "      <td>15180.0</td>\n",
       "      <td>239</td>\n",
       "      <td>240</td>\n",
       "      <td>103.682008</td>\n",
       "      <td>...</td>\n",
       "      <td>47.918367</td>\n",
       "      <td>14680.0</td>\n",
       "      <td>13300.0</td>\n",
       "      <td>11860.0</td>\n",
       "      <td>326</td>\n",
       "      <td>357</td>\n",
       "      <td>260</td>\n",
       "      <td>45.030675</td>\n",
       "      <td>37.254902</td>\n",
       "      <td>45.791506</td>\n",
       "    </tr>\n",
       "    <tr>\n",
       "      <th>3</th>\n",
       "      <td>11950.957324</td>\n",
       "      <td>11461.339153</td>\n",
       "      <td>1</td>\n",
       "      <td>0</td>\n",
       "      <td>112JU3</td>\n",
       "      <td>23920.0</td>\n",
       "      <td>15960.0</td>\n",
       "      <td>243</td>\n",
       "      <td>244</td>\n",
       "      <td>98.436214</td>\n",
       "      <td>...</td>\n",
       "      <td>46.666667</td>\n",
       "      <td>10600.0</td>\n",
       "      <td>13300.0</td>\n",
       "      <td>15980.0</td>\n",
       "      <td>270</td>\n",
       "      <td>360</td>\n",
       "      <td>329</td>\n",
       "      <td>39.259259</td>\n",
       "      <td>36.944444</td>\n",
       "      <td>48.719512</td>\n",
       "    </tr>\n",
       "    <tr>\n",
       "      <th>4</th>\n",
       "      <td>4959.743932</td>\n",
       "      <td>4913.022136</td>\n",
       "      <td>1</td>\n",
       "      <td>1</td>\n",
       "      <td>112KA1</td>\n",
       "      <td>29920.0</td>\n",
       "      <td>9760.0</td>\n",
       "      <td>249</td>\n",
       "      <td>249</td>\n",
       "      <td>120.645161</td>\n",
       "      <td>...</td>\n",
       "      <td>33.717579</td>\n",
       "      <td>12420.0</td>\n",
       "      <td>15920.0</td>\n",
       "      <td>11580.0</td>\n",
       "      <td>400</td>\n",
       "      <td>457</td>\n",
       "      <td>355</td>\n",
       "      <td>31.050000</td>\n",
       "      <td>34.912281</td>\n",
       "      <td>32.619718</td>\n",
       "    </tr>\n",
       "  </tbody>\n",
       "</table>\n",
       "<p>5 rows × 53 columns</p>\n",
       "</div>"
      ],
      "text/plain": [
       "      DistanceL     DistanceR  Gender  Label Subject  LTypeFSum  LTypeSSum  \\\n",
       "0  13413.296257  13580.306540       1      0  111GM3    15320.0    14520.0   \n",
       "1   8788.682167   8509.062191       0      1  111JA2    22100.0    17840.0   \n",
       "2   9765.357380  10281.893102       1      1  111RP1    24780.0    15180.0   \n",
       "3  11950.957324  11461.339153       1      0  112JU3    23920.0    15960.0   \n",
       "4   4959.743932   4913.022136       1      1  112KA1    29920.0     9760.0   \n",
       "\n",
       "   LTypeFCount  LTypeSCount  LTypeFMean  ...  LVerDirNMean  RVerDirUSum  \\\n",
       "0          171          172   89.590643  ...     62.027027      11220.0   \n",
       "1          288          288   77.003484  ...     43.737024      13740.0   \n",
       "2          239          240  103.682008  ...     47.918367      14680.0   \n",
       "3          243          244   98.436214  ...     46.666667      10600.0   \n",
       "4          249          249  120.645161  ...     33.717579      12420.0   \n",
       "\n",
       "   RVerDirDSum  RVerDirNSum  RVerDirUCount  RVerDirDCount  RVerDirNCount  \\\n",
       "0       9900.0       8860.0            262            235            148   \n",
       "1      13520.0      12680.0            324            317            302   \n",
       "2      13300.0      11860.0            326            357            260   \n",
       "3      13300.0      15980.0            270            360            329   \n",
       "4      15920.0      11580.0            400            457            355   \n",
       "\n",
       "   RVerDirUMean  RVerDirDMean  RVerDirNMean  \n",
       "0     42.824427     42.127660     60.272109  \n",
       "1     42.407407     42.784810     41.986755  \n",
       "2     45.030675     37.254902     45.791506  \n",
       "3     39.259259     36.944444     48.719512  \n",
       "4     31.050000     34.912281     32.619718  \n",
       "\n",
       "[5 rows x 53 columns]"
      ]
     },
     "execution_count": 7,
     "metadata": {},
     "output_type": "execute_result"
    }
   ],
   "source": [
    "df = pd.read_csv('C:\\Springboard\\Springboard01\\Capstone\\Capstone 2\\Data\\datawithfeatures.csv')\n",
    "print(\"Input Data Shape = \", df.shape)\n",
    "df.head()"
   ]
  },
  {
   "cell_type": "markdown",
   "metadata": {},
   "source": [
    "**Dependent Variable**\n",
    "\n",
    "The column **label** is the prediction column. This is the dependent variable. 0 is control group and 1 is dyslexic group. \n",
    "\n",
    "**Independent Variables**\n",
    "\n",
    "There are 52 independent variables.All but gender are numerical/decimal variables. The **gender** column is a categorical variable and  has 1 for males and 0 for females"
   ]
  },
  {
   "cell_type": "code",
   "execution_count": 32,
   "metadata": {},
   "outputs": [
    {
     "name": "stdout",
     "output_type": "stream",
     "text": [
      "StandardScaler(copy=True, with_mean=True, with_std=True)\n"
     ]
    }
   ],
   "source": [
    "scaler = StandardScaler()\n",
    "scaledData = print(X))"
   ]
  },
  {
   "cell_type": "code",
   "execution_count": 8,
   "metadata": {},
   "outputs": [
    {
     "data": {
      "text/plain": [
       "Label\n",
       "0    88\n",
       "1    97\n",
       "dtype: int64"
      ]
     },
     "execution_count": 8,
     "metadata": {},
     "output_type": "execute_result"
    }
   ],
   "source": [
    "df.groupby(by =['Label']).size()"
   ]
  },
  {
   "cell_type": "markdown",
   "metadata": {},
   "source": [
    "The dataset has 88 subjects in the control group and 97 subjects in the dyslexic group.  This way the data seems to be very balanced. use StandardScaler to scale the variables to a standard normal format.\n",
    "\n",
    "A training and validation approach is used. the available data is split with 70% of the data used for training the model and 30% of the data used to validate the model as the test data set. The dependent and independent variables are split into X_train and y_train for the training data set and X_test and y_test for the testing dataset. A stratified ratio preserved rows are split across the test and training data. The original data has a conrol/dyslexis ratio of (88/97) 90%, the training data has a ratio of (61/68) 90% and the test data has a ratio of (27/29) 93%."
   ]
  },
  {
   "cell_type": "code",
   "execution_count": 55,
   "metadata": {},
   "outputs": [
    {
     "name": "stdout",
     "output_type": "stream",
     "text": [
      "Training Data Label\n",
      "0.0    61\n",
      "1.0    68\n",
      "dtype: int64\n",
      "Test Data Label\n",
      "0.0    27\n",
      "1.0    29\n",
      "dtype: int64\n"
     ]
    }
   ],
   "source": [
    "X = df.drop(['Label', 'Subject'], axis=1)\n",
    "X[:]= scaler.fit_transform(X[:])\n",
    "y = df['Label']\n",
    "X_train, X_test, y_train, y_test = train_test_split(X, y, test_size=0.3, stratify=y, random_state=123, shuffle=True)\n",
    "X_train = X_train.astype('float64')\n",
    "y_train = y_train.astype('float64')\n",
    "X_test = X_test.astype('float64')\n",
    "y_test = y_test.astype('float64')\n",
    "print(\"Training Data\", pd.concat([X_train, y_train], axis=1).groupby(by =['Label']).size())\n",
    "print (\"Test Data\",pd.concat([X_test, y_test], axis=1).groupby(by =['Label']).size())"
   ]
  },
  {
   "cell_type": "markdown",
   "metadata": {},
   "source": [
    "Now to find the hyperparameters for a logistic regression model, we try with different C values, 1000 through 0.001. Looking at the results a C value of 10 provides the best training and test accuracy."
   ]
  },
  {
   "cell_type": "code",
   "execution_count": 76,
   "metadata": {},
   "outputs": [
    {
     "name": "stdout",
     "output_type": "stream",
     "text": [
      "-----------------  using liblinear and L1 penalty ------------------------\n",
      "C: 1000\n",
      "Training accuracy: 1.0\n",
      "Test accuracy: 0.8571428571428571\n",
      "\n",
      "C: 100\n",
      "Training accuracy: 1.0\n",
      "Test accuracy: 0.875\n",
      "\n",
      "C: 10\n",
      "Training accuracy: 1.0\n",
      "Test accuracy: 0.9285714285714286\n",
      "\n",
      "C: 5\n",
      "Training accuracy: 0.9844961240310077\n",
      "Test accuracy: 0.9107142857142857\n",
      "\n",
      "C: 1\n",
      "Training accuracy: 0.9689922480620154\n",
      "Test accuracy: 0.875\n",
      "\n",
      "C: 0.1\n",
      "Training accuracy: 0.9224806201550387\n",
      "Test accuracy: 0.875\n",
      "\n",
      "C: 0.001\n",
      "Training accuracy: 0.4728682170542636\n",
      "Test accuracy: 0.48214285714285715\n",
      "\n",
      "-----------------  using liblinear and L2 penalty ------------------------\n",
      "C: 1000\n",
      "Training accuracy: 1.0\n",
      "Test accuracy: 0.8571428571428571\n",
      "\n",
      "C: 100\n",
      "Training accuracy: 1.0\n",
      "Test accuracy: 0.8928571428571429\n",
      "\n",
      "C: 10\n",
      "Training accuracy: 0.9844961240310077\n",
      "Test accuracy: 0.8928571428571429\n",
      "\n",
      "C: 5\n",
      "Training accuracy: 0.9844961240310077\n",
      "Test accuracy: 0.8928571428571429\n",
      "\n",
      "C: 1\n",
      "Training accuracy: 0.9689922480620154\n",
      "Test accuracy: 0.9107142857142857\n",
      "\n",
      "C: 0.1\n",
      "Training accuracy: 0.9457364341085271\n",
      "Test accuracy: 0.9464285714285714\n",
      "\n",
      "C: 0.001\n",
      "Training accuracy: 0.937984496124031\n",
      "Test accuracy: 0.8571428571428571\n",
      "\n",
      "-----------------  using lbfgs ------------------------\n",
      "C: 1000\n",
      "Training accuracy: 1.0\n",
      "Test accuracy: 0.8571428571428571\n",
      "\n",
      "C: 100\n",
      "Training accuracy: 1.0\n",
      "Test accuracy: 0.8928571428571429\n",
      "\n",
      "C: 10\n",
      "Training accuracy: 0.9844961240310077\n",
      "Test accuracy: 0.8928571428571429\n",
      "\n",
      "C: 5\n",
      "Training accuracy: 0.9844961240310077\n",
      "Test accuracy: 0.875\n",
      "\n",
      "C: 1\n",
      "Training accuracy: 0.9689922480620154\n",
      "Test accuracy: 0.9107142857142857\n",
      "\n",
      "C: 0.1\n",
      "Training accuracy: 0.937984496124031\n",
      "Test accuracy: 0.9285714285714286\n",
      "\n",
      "C: 0.001\n",
      "Training accuracy: 0.9457364341085271\n",
      "Test accuracy: 0.875\n",
      "\n"
     ]
    }
   ],
   "source": [
    "C = [1000, 100, 10, 5, 1, .1, .001]\n",
    "    \n",
    "print (\"-----------------  using liblinear and L1 penalty ------------------------\")\n",
    "for c in C:\n",
    "    clf = LogisticRegression(penalty='l1', C=c, solver='liblinear')\n",
    "    clf.fit(X_train, y_train)\n",
    "    print('C:', c)\n",
    "    print('Training accuracy:', clf.score(X_train, y_train))\n",
    "    print('Test accuracy:', clf.score(X_test, y_test))\n",
    "    print('')\n",
    "    C = [1000, 100, 10, 5, 1, .1, .001]\n",
    "    \n",
    "print( \"-----------------  using liblinear and L2 penalty ------------------------\")\n",
    "for c in C:\n",
    "    clf = LogisticRegression(penalty='l2', C=c, solver='liblinear')\n",
    "    clf.fit(X_train, y_train)\n",
    "    print('C:', c)\n",
    "    print('Training accuracy:', clf.score(X_train, y_train))\n",
    "    print('Test accuracy:', clf.score(X_test, y_test))\n",
    "    print('')\n",
    "    C = [1000, 100, 10, 5, 1, .1, .001]\n",
    "    \n",
    "print (\"-----------------  using lbfgs ------------------------\")\n",
    "\n",
    "for c in C:\n",
    "    clf = LogisticRegression(C=c, solver='lbfgs', max_iter=500)\n",
    "    clf.fit(X_train, y_train)\n",
    "    print('C:', c)\n",
    "    print('Training accuracy:', clf.score(X_train, y_train))\n",
    "    print('Test accuracy:', clf.score(X_test, y_test))\n",
    "    print('')"
   ]
  },
  {
   "cell_type": "markdown",
   "metadata": {},
   "source": [
    "We try to fit a Logistic regression model with a regularization parameter (C) of 10 and a maximum of 500 iterations. Then test the model using predictions from the test data set.  We prepare and print the classification report for the training and test data."
   ]
  },
  {
   "cell_type": "code",
   "execution_count": 75,
   "metadata": {},
   "outputs": [
    {
     "name": "stdout",
     "output_type": "stream",
     "text": [
      "              precision    recall  f1-score   support\n",
      "\n",
      "         0.0       1.00      1.00      1.00        61\n",
      "         1.0       1.00      1.00      1.00        68\n",
      "\n",
      "    accuracy                           1.00       129\n",
      "   macro avg       1.00      1.00      1.00       129\n",
      "weighted avg       1.00      1.00      1.00       129\n",
      "\n",
      "              precision    recall  f1-score   support\n",
      "\n",
      "         0.0       0.96      0.89      0.92        27\n",
      "         1.0       0.90      0.97      0.93        29\n",
      "\n",
      "    accuracy                           0.93        56\n",
      "   macro avg       0.93      0.93      0.93        56\n",
      "weighted avg       0.93      0.93      0.93        56\n",
      "\n",
      "[[24  3]\n",
      " [ 1 28]]\n"
     ]
    },
    {
     "data": {
      "image/png": "[encoded data removed]",
      "text/plain": [
       "<Figure size 432x288 with 2 Axes>"
      ]
     },
     "metadata": {
      "needs_background": "light"
     },
     "output_type": "display_data"
    }
   ],
   "source": [
    "model = LogisticRegression(penalty='l1', solver='liblinear', max_iter=500, C=10).fit(X_train, y_train)\n",
    "y_pred = model.predict(X_test)\n",
    "y_predtrain = model.predict(X_train)\n",
    "print(classification_report(y_train, y_predtrain)) \n",
    "print(classification_report(y_test, y_pred))\n",
    "drawConfusionMatrix(confusion_matrix(y_test, y_pred))  "
   ]
  },
  {
   "cell_type": "markdown",
   "metadata": {},
   "source": [
    "Now trying with the Gradient Boosting Classifier, to see if there are any better results."
   ]
  },
  {
   "cell_type": "code",
   "execution_count": 60,
   "metadata": {},
   "outputs": [
    {
     "name": "stdout",
     "output_type": "stream",
     "text": [
      "              precision    recall  f1-score   support\n",
      "\n",
      "         0.0       1.00      1.00      1.00        61\n",
      "         1.0       1.00      1.00      1.00        68\n",
      "\n",
      "    accuracy                           1.00       129\n",
      "   macro avg       1.00      1.00      1.00       129\n",
      "weighted avg       1.00      1.00      1.00       129\n",
      "\n",
      "              precision    recall  f1-score   support\n",
      "\n",
      "         0.0       0.81      0.78      0.79        27\n",
      "         1.0       0.80      0.83      0.81        29\n",
      "\n",
      "    accuracy                           0.80        56\n",
      "   macro avg       0.80      0.80      0.80        56\n",
      "weighted avg       0.80      0.80      0.80        56\n",
      "\n"
     ]
    }
   ],
   "source": [
    "from sklearn.ensemble import GradientBoostingClassifier\n",
    "GBMmodel = GradientBoostingClassifier(random_state=0).fit(X_train, y_train)\n",
    "y_pred = GBMmodel.predict(X_test)\n",
    "y_predtrain = GBMmodel.predict(X_train)\n",
    "print(classification_report(y_train, y_predtrain)) \n",
    "print(classification_report(y_test, y_pred))"
   ]
  },
  {
   "cell_type": "markdown",
   "metadata": {},
   "source": [
    "It looks like the linear regression with solver = liblinear and L1 penalty provides the best results"
   ]
  }
 ],
 "metadata": {
  "kernelspec": {
   "display_name": "Python 3",
   "language": "python",
   "name": "python3"
  },
  "language_info": {
   "codemirror_mode": {
    "name": "ipython",
    "version": 3
   },
   "file_extension": ".py",
   "mimetype": "text/x-python",
   "name": "python",
   "nbconvert_exporter": "python",
   "pygments_lexer": "ipython3",
   "version": "3.7.3"
  }
 },
 "nbformat": 4,
 "nbformat_minor": 2
}
