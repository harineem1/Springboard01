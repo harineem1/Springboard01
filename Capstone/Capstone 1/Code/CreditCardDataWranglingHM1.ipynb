{
 "cells": [
  {
   "cell_type": "code",
   "execution_count": 1,
   "metadata": {},
   "outputs": [],
   "source": [
    "import pandas as pd\n",
    "import matplotlib.pyplot as plt\n",
    "import numpy as np"
   ]
  },
  {
   "cell_type": "code",
   "execution_count": 2,
   "metadata": {},
   "outputs": [
    {
     "name": "stderr",
     "output_type": "stream",
     "text": [
      "C:\\ProgramData\\Anaconda3\\lib\\site-packages\\IPython\\core\\interactiveshell.py:3020: DtypeWarning: Columns (1,2,3,4,5,6,7,8,9,11,12,14,17) have mixed types. Specify dtype option on import or set low_memory=False.\n",
      "  interactivity=interactivity, compiler=compiler, result=result)\n"
     ]
    },
    {
     "data": {
      "text/plain": [
       "(284807, 31)"
      ]
     },
     "execution_count": 2,
     "metadata": {},
     "output_type": "execute_result"
    }
   ],
   "source": [
    "#Read the input file. This file is a manually modified file with some data items missing to test wrangle process. \n",
    "#Because the original data I had looked cleaner\n",
    "df = pd.read_csv('C:\\Springboard\\Springboard01\\Capstone\\Capstone 1\\Data\\creditcardToWrangle.csv')\n",
    "df.shape"
   ]
  },
  {
   "cell_type": "code",
   "execution_count": 3,
   "metadata": {},
   "outputs": [
    {
     "data": {
      "text/plain": [
       "Time      float64\n",
       "V1         object\n",
       "V2         object\n",
       "V3         object\n",
       "V4         object\n",
       "V5         object\n",
       "V6         object\n",
       "V7         object\n",
       "V8         object\n",
       "V9         object\n",
       "V10       float64\n",
       "V11        object\n",
       "V12        object\n",
       "V13       float64\n",
       "V14        object\n",
       "V15       float64\n",
       "V16       float64\n",
       "V17        object\n",
       "V18       float64\n",
       "V19       float64\n",
       "V20       float64\n",
       "V21       float64\n",
       "V22       float64\n",
       "V23       float64\n",
       "V24       float64\n",
       "V25       float64\n",
       "V26       float64\n",
       "V27       float64\n",
       "V28       float64\n",
       "Amount    float64\n",
       "Class       int64\n",
       "dtype: object"
      ]
     },
     "execution_count": 3,
     "metadata": {},
     "output_type": "execute_result"
    }
   ],
   "source": [
    "#Let us look at the data types\n",
    "df.dtypes"
   ]
  },
  {
   "cell_type": "code",
   "execution_count": 4,
   "metadata": {},
   "outputs": [
    {
     "data": {
      "text/html": [
       "<div>\n",
       "<style scoped>\n",
       "    .dataframe tbody tr th:only-of-type {\n",
       "        vertical-align: middle;\n",
       "    }\n",
       "\n",
       "    .dataframe tbody tr th {\n",
       "        vertical-align: top;\n",
       "    }\n",
       "\n",
       "    .dataframe thead th {\n",
       "        text-align: right;\n",
       "    }\n",
       "</style>\n",
       "<table border=\"1\" class=\"dataframe\">\n",
       "  <thead>\n",
       "    <tr style=\"text-align: right;\">\n",
       "      <th></th>\n",
       "      <th>Time</th>\n",
       "      <th>V1</th>\n",
       "      <th>V2</th>\n",
       "      <th>V3</th>\n",
       "      <th>V4</th>\n",
       "      <th>V5</th>\n",
       "      <th>V6</th>\n",
       "      <th>V7</th>\n",
       "      <th>V8</th>\n",
       "      <th>V9</th>\n",
       "      <th>...</th>\n",
       "      <th>V21</th>\n",
       "      <th>V22</th>\n",
       "      <th>V23</th>\n",
       "      <th>V24</th>\n",
       "      <th>V25</th>\n",
       "      <th>V26</th>\n",
       "      <th>V27</th>\n",
       "      <th>V28</th>\n",
       "      <th>Amount</th>\n",
       "      <th>Class</th>\n",
       "    </tr>\n",
       "  </thead>\n",
       "  <tbody>\n",
       "    <tr>\n",
       "      <th>0</th>\n",
       "      <td>0.0</td>\n",
       "      <td>NaN</td>\n",
       "      <td>-0.0727812</td>\n",
       "      <td>2.53635</td>\n",
       "      <td>1.37816</td>\n",
       "      <td>-0.338321</td>\n",
       "      <td>0.462388</td>\n",
       "      <td>0.239599</td>\n",
       "      <td>0.098697901</td>\n",
       "      <td>0.363787</td>\n",
       "      <td>...</td>\n",
       "      <td>-0.018307</td>\n",
       "      <td>0.277838</td>\n",
       "      <td>-0.110474</td>\n",
       "      <td>0.066928</td>\n",
       "      <td>0.128539</td>\n",
       "      <td>-0.189115</td>\n",
       "      <td>0.133558</td>\n",
       "      <td>-0.021053</td>\n",
       "      <td>149.62</td>\n",
       "      <td>0</td>\n",
       "    </tr>\n",
       "    <tr>\n",
       "      <th>1</th>\n",
       "      <td>0.0</td>\n",
       "      <td>NaN</td>\n",
       "      <td>0.266151</td>\n",
       "      <td>0.16648</td>\n",
       "      <td>0.448154</td>\n",
       "      <td>0.0600176</td>\n",
       "      <td>-0.0823608</td>\n",
       "      <td>-0.078803</td>\n",
       "      <td>0.085101655</td>\n",
       "      <td>-0.255425</td>\n",
       "      <td>...</td>\n",
       "      <td>-0.225775</td>\n",
       "      <td>-0.638672</td>\n",
       "      <td>0.101288</td>\n",
       "      <td>-0.339846</td>\n",
       "      <td>0.167170</td>\n",
       "      <td>0.125895</td>\n",
       "      <td>-0.008983</td>\n",
       "      <td>0.014724</td>\n",
       "      <td>2.69</td>\n",
       "      <td>0</td>\n",
       "    </tr>\n",
       "    <tr>\n",
       "      <th>2</th>\n",
       "      <td>1.0</td>\n",
       "      <td>NaN</td>\n",
       "      <td>-1.34016</td>\n",
       "      <td>1.77321</td>\n",
       "      <td>0.37978</td>\n",
       "      <td>-0.503198</td>\n",
       "      <td>1.8005</td>\n",
       "      <td>0.791461</td>\n",
       "      <td>0.247675787</td>\n",
       "      <td>-1.51465</td>\n",
       "      <td>...</td>\n",
       "      <td>0.247998</td>\n",
       "      <td>0.771679</td>\n",
       "      <td>0.909412</td>\n",
       "      <td>-0.689281</td>\n",
       "      <td>-0.327642</td>\n",
       "      <td>-0.139097</td>\n",
       "      <td>-0.055353</td>\n",
       "      <td>-0.059752</td>\n",
       "      <td>378.66</td>\n",
       "      <td>0</td>\n",
       "    </tr>\n",
       "    <tr>\n",
       "      <th>3</th>\n",
       "      <td>1.0</td>\n",
       "      <td>NaN</td>\n",
       "      <td>-0.185226</td>\n",
       "      <td>1.79299</td>\n",
       "      <td>-0.863291</td>\n",
       "      <td>-0.0103089</td>\n",
       "      <td>1.2472</td>\n",
       "      <td>0.237609</td>\n",
       "      <td>0.377435875</td>\n",
       "      <td>-1.38702</td>\n",
       "      <td>...</td>\n",
       "      <td>-0.108300</td>\n",
       "      <td>0.005274</td>\n",
       "      <td>-0.190321</td>\n",
       "      <td>-1.175575</td>\n",
       "      <td>0.647376</td>\n",
       "      <td>-0.221929</td>\n",
       "      <td>0.062723</td>\n",
       "      <td>0.061458</td>\n",
       "      <td>123.50</td>\n",
       "      <td>0</td>\n",
       "    </tr>\n",
       "    <tr>\n",
       "      <th>4</th>\n",
       "      <td>2.0</td>\n",
       "      <td>NaN</td>\n",
       "      <td>0.877737</td>\n",
       "      <td>1.54872</td>\n",
       "      <td>0.403034</td>\n",
       "      <td>-0.407193</td>\n",
       "      <td>0.0959215</td>\n",
       "      <td>0.592941</td>\n",
       "      <td>-0.270532677</td>\n",
       "      <td>0.817739</td>\n",
       "      <td>...</td>\n",
       "      <td>-0.009431</td>\n",
       "      <td>0.798278</td>\n",
       "      <td>-0.137458</td>\n",
       "      <td>0.141267</td>\n",
       "      <td>-0.206010</td>\n",
       "      <td>0.502292</td>\n",
       "      <td>0.219422</td>\n",
       "      <td>0.215153</td>\n",
       "      <td>69.99</td>\n",
       "      <td>0</td>\n",
       "    </tr>\n",
       "  </tbody>\n",
       "</table>\n",
       "<p>5 rows × 31 columns</p>\n",
       "</div>"
      ],
      "text/plain": [
       "   Time   V1         V2       V3        V4         V5         V6        V7  \\\n",
       "0   0.0  NaN -0.0727812  2.53635   1.37816  -0.338321   0.462388  0.239599   \n",
       "1   0.0  NaN   0.266151  0.16648  0.448154  0.0600176 -0.0823608 -0.078803   \n",
       "2   1.0  NaN   -1.34016  1.77321   0.37978  -0.503198     1.8005  0.791461   \n",
       "3   1.0  NaN  -0.185226  1.79299 -0.863291 -0.0103089     1.2472  0.237609   \n",
       "4   2.0  NaN   0.877737  1.54872  0.403034  -0.407193  0.0959215  0.592941   \n",
       "\n",
       "             V8        V9  ...         V21       V22       V23       V24  \\\n",
       "0   0.098697901  0.363787  ...   -0.018307  0.277838 -0.110474  0.066928   \n",
       "1   0.085101655 -0.255425  ...   -0.225775 -0.638672  0.101288 -0.339846   \n",
       "2   0.247675787  -1.51465  ...    0.247998  0.771679  0.909412 -0.689281   \n",
       "3   0.377435875  -1.38702  ...   -0.108300  0.005274 -0.190321 -1.175575   \n",
       "4  -0.270532677  0.817739  ...   -0.009431  0.798278 -0.137458  0.141267   \n",
       "\n",
       "        V25       V26       V27       V28  Amount  Class  \n",
       "0  0.128539 -0.189115  0.133558 -0.021053  149.62      0  \n",
       "1  0.167170  0.125895 -0.008983  0.014724    2.69      0  \n",
       "2 -0.327642 -0.139097 -0.055353 -0.059752  378.66      0  \n",
       "3  0.647376 -0.221929  0.062723  0.061458  123.50      0  \n",
       "4 -0.206010  0.502292  0.219422  0.215153   69.99      0  \n",
       "\n",
       "[5 rows x 31 columns]"
      ]
     },
     "execution_count": 4,
     "metadata": {},
     "output_type": "execute_result"
    }
   ],
   "source": [
    "#Let us look at the data. displaying the head\n",
    "df.head()"
   ]
  },
  {
   "cell_type": "code",
   "execution_count": 5,
   "metadata": {},
   "outputs": [
    {
     "data": {
      "text/html": [
       "<div>\n",
       "<style scoped>\n",
       "    .dataframe tbody tr th:only-of-type {\n",
       "        vertical-align: middle;\n",
       "    }\n",
       "\n",
       "    .dataframe tbody tr th {\n",
       "        vertical-align: top;\n",
       "    }\n",
       "\n",
       "    .dataframe thead th {\n",
       "        text-align: right;\n",
       "    }\n",
       "</style>\n",
       "<table border=\"1\" class=\"dataframe\">\n",
       "  <thead>\n",
       "    <tr style=\"text-align: right;\">\n",
       "      <th></th>\n",
       "      <th>Time</th>\n",
       "      <th>V10</th>\n",
       "      <th>V13</th>\n",
       "      <th>V15</th>\n",
       "      <th>V16</th>\n",
       "      <th>V18</th>\n",
       "      <th>V19</th>\n",
       "      <th>V20</th>\n",
       "      <th>V21</th>\n",
       "      <th>V22</th>\n",
       "      <th>V23</th>\n",
       "      <th>V24</th>\n",
       "      <th>V25</th>\n",
       "      <th>V26</th>\n",
       "      <th>V27</th>\n",
       "      <th>V28</th>\n",
       "      <th>Amount</th>\n",
       "      <th>Class</th>\n",
       "    </tr>\n",
       "  </thead>\n",
       "  <tbody>\n",
       "    <tr>\n",
       "      <th>count</th>\n",
       "      <td>284807.000000</td>\n",
       "      <td>2.848060e+05</td>\n",
       "      <td>2.848070e+05</td>\n",
       "      <td>2.848070e+05</td>\n",
       "      <td>2.848070e+05</td>\n",
       "      <td>2.848070e+05</td>\n",
       "      <td>2.848070e+05</td>\n",
       "      <td>2.848070e+05</td>\n",
       "      <td>2.848070e+05</td>\n",
       "      <td>2.848070e+05</td>\n",
       "      <td>2.848070e+05</td>\n",
       "      <td>2.848070e+05</td>\n",
       "      <td>2.848070e+05</td>\n",
       "      <td>2.848070e+05</td>\n",
       "      <td>2.848070e+05</td>\n",
       "      <td>2.848070e+05</td>\n",
       "      <td>284807.000000</td>\n",
       "      <td>284807.000000</td>\n",
       "    </tr>\n",
       "    <tr>\n",
       "      <th>mean</th>\n",
       "      <td>94813.859575</td>\n",
       "      <td>-5.247446e-07</td>\n",
       "      <td>7.137527e-13</td>\n",
       "      <td>-5.225914e-13</td>\n",
       "      <td>-2.280712e-13</td>\n",
       "      <td>4.958987e-13</td>\n",
       "      <td>7.060712e-13</td>\n",
       "      <td>1.766038e-12</td>\n",
       "      <td>-3.406543e-13</td>\n",
       "      <td>-5.713163e-13</td>\n",
       "      <td>-9.725303e-13</td>\n",
       "      <td>1.464139e-12</td>\n",
       "      <td>-6.989087e-13</td>\n",
       "      <td>-5.615260e-13</td>\n",
       "      <td>3.332112e-12</td>\n",
       "      <td>-3.518886e-12</td>\n",
       "      <td>88.349619</td>\n",
       "      <td>0.001727</td>\n",
       "    </tr>\n",
       "    <tr>\n",
       "      <th>std</th>\n",
       "      <td>47488.145955</td>\n",
       "      <td>1.088852e+00</td>\n",
       "      <td>9.952742e-01</td>\n",
       "      <td>9.153160e-01</td>\n",
       "      <td>8.762529e-01</td>\n",
       "      <td>8.381762e-01</td>\n",
       "      <td>8.140405e-01</td>\n",
       "      <td>7.709250e-01</td>\n",
       "      <td>7.345240e-01</td>\n",
       "      <td>7.257016e-01</td>\n",
       "      <td>6.244603e-01</td>\n",
       "      <td>6.056471e-01</td>\n",
       "      <td>5.212781e-01</td>\n",
       "      <td>4.822270e-01</td>\n",
       "      <td>4.036325e-01</td>\n",
       "      <td>3.300833e-01</td>\n",
       "      <td>250.120109</td>\n",
       "      <td>0.041527</td>\n",
       "    </tr>\n",
       "    <tr>\n",
       "      <th>min</th>\n",
       "      <td>0.000000</td>\n",
       "      <td>-2.458826e+01</td>\n",
       "      <td>-5.791881e+00</td>\n",
       "      <td>-4.498945e+00</td>\n",
       "      <td>-1.412985e+01</td>\n",
       "      <td>-9.498746e+00</td>\n",
       "      <td>-7.213527e+00</td>\n",
       "      <td>-5.449772e+01</td>\n",
       "      <td>-3.483038e+01</td>\n",
       "      <td>-1.093314e+01</td>\n",
       "      <td>-4.480774e+01</td>\n",
       "      <td>-2.836627e+00</td>\n",
       "      <td>-1.029540e+01</td>\n",
       "      <td>-2.604551e+00</td>\n",
       "      <td>-2.256568e+01</td>\n",
       "      <td>-1.543008e+01</td>\n",
       "      <td>0.000000</td>\n",
       "      <td>0.000000</td>\n",
       "    </tr>\n",
       "    <tr>\n",
       "      <th>25%</th>\n",
       "      <td>54201.500000</td>\n",
       "      <td>-5.354262e-01</td>\n",
       "      <td>-6.485393e-01</td>\n",
       "      <td>-5.828843e-01</td>\n",
       "      <td>-4.680368e-01</td>\n",
       "      <td>-4.988498e-01</td>\n",
       "      <td>-4.562989e-01</td>\n",
       "      <td>-2.117214e-01</td>\n",
       "      <td>-2.283949e-01</td>\n",
       "      <td>-5.423504e-01</td>\n",
       "      <td>-1.618463e-01</td>\n",
       "      <td>-3.545861e-01</td>\n",
       "      <td>-3.171451e-01</td>\n",
       "      <td>-3.269839e-01</td>\n",
       "      <td>-7.083953e-02</td>\n",
       "      <td>-5.295979e-02</td>\n",
       "      <td>5.600000</td>\n",
       "      <td>0.000000</td>\n",
       "    </tr>\n",
       "    <tr>\n",
       "      <th>50%</th>\n",
       "      <td>84692.000000</td>\n",
       "      <td>-9.292149e-02</td>\n",
       "      <td>-1.356806e-02</td>\n",
       "      <td>4.807155e-02</td>\n",
       "      <td>6.641332e-02</td>\n",
       "      <td>-3.636312e-03</td>\n",
       "      <td>3.734823e-03</td>\n",
       "      <td>-6.248109e-02</td>\n",
       "      <td>-2.945017e-02</td>\n",
       "      <td>6.781943e-03</td>\n",
       "      <td>-1.119293e-02</td>\n",
       "      <td>4.097606e-02</td>\n",
       "      <td>1.659350e-02</td>\n",
       "      <td>-5.213911e-02</td>\n",
       "      <td>1.342146e-03</td>\n",
       "      <td>1.124383e-02</td>\n",
       "      <td>22.000000</td>\n",
       "      <td>0.000000</td>\n",
       "    </tr>\n",
       "    <tr>\n",
       "      <th>75%</th>\n",
       "      <td>139320.500000</td>\n",
       "      <td>4.539342e-01</td>\n",
       "      <td>6.625050e-01</td>\n",
       "      <td>6.488208e-01</td>\n",
       "      <td>5.232963e-01</td>\n",
       "      <td>5.008067e-01</td>\n",
       "      <td>4.589494e-01</td>\n",
       "      <td>1.330408e-01</td>\n",
       "      <td>1.863772e-01</td>\n",
       "      <td>5.285536e-01</td>\n",
       "      <td>1.476421e-01</td>\n",
       "      <td>4.395266e-01</td>\n",
       "      <td>3.507156e-01</td>\n",
       "      <td>2.409522e-01</td>\n",
       "      <td>9.104512e-02</td>\n",
       "      <td>7.827995e-02</td>\n",
       "      <td>77.165000</td>\n",
       "      <td>0.000000</td>\n",
       "    </tr>\n",
       "    <tr>\n",
       "      <th>max</th>\n",
       "      <td>172792.000000</td>\n",
       "      <td>2.374514e+01</td>\n",
       "      <td>7.126883e+00</td>\n",
       "      <td>8.877742e+00</td>\n",
       "      <td>1.731511e+01</td>\n",
       "      <td>5.041069e+00</td>\n",
       "      <td>5.591971e+00</td>\n",
       "      <td>3.942090e+01</td>\n",
       "      <td>2.720284e+01</td>\n",
       "      <td>1.050309e+01</td>\n",
       "      <td>2.252841e+01</td>\n",
       "      <td>4.584549e+00</td>\n",
       "      <td>7.519589e+00</td>\n",
       "      <td>3.517346e+00</td>\n",
       "      <td>3.161220e+01</td>\n",
       "      <td>3.384781e+01</td>\n",
       "      <td>25691.160000</td>\n",
       "      <td>1.000000</td>\n",
       "    </tr>\n",
       "  </tbody>\n",
       "</table>\n",
       "</div>"
      ],
      "text/plain": [
       "                Time           V10           V13           V15           V16  \\\n",
       "count  284807.000000  2.848060e+05  2.848070e+05  2.848070e+05  2.848070e+05   \n",
       "mean    94813.859575 -5.247446e-07  7.137527e-13 -5.225914e-13 -2.280712e-13   \n",
       "std     47488.145955  1.088852e+00  9.952742e-01  9.153160e-01  8.762529e-01   \n",
       "min         0.000000 -2.458826e+01 -5.791881e+00 -4.498945e+00 -1.412985e+01   \n",
       "25%     54201.500000 -5.354262e-01 -6.485393e-01 -5.828843e-01 -4.680368e-01   \n",
       "50%     84692.000000 -9.292149e-02 -1.356806e-02  4.807155e-02  6.641332e-02   \n",
       "75%    139320.500000  4.539342e-01  6.625050e-01  6.488208e-01  5.232963e-01   \n",
       "max    172792.000000  2.374514e+01  7.126883e+00  8.877742e+00  1.731511e+01   \n",
       "\n",
       "                V18           V19           V20           V21           V22  \\\n",
       "count  2.848070e+05  2.848070e+05  2.848070e+05  2.848070e+05  2.848070e+05   \n",
       "mean   4.958987e-13  7.060712e-13  1.766038e-12 -3.406543e-13 -5.713163e-13   \n",
       "std    8.381762e-01  8.140405e-01  7.709250e-01  7.345240e-01  7.257016e-01   \n",
       "min   -9.498746e+00 -7.213527e+00 -5.449772e+01 -3.483038e+01 -1.093314e+01   \n",
       "25%   -4.988498e-01 -4.562989e-01 -2.117214e-01 -2.283949e-01 -5.423504e-01   \n",
       "50%   -3.636312e-03  3.734823e-03 -6.248109e-02 -2.945017e-02  6.781943e-03   \n",
       "75%    5.008067e-01  4.589494e-01  1.330408e-01  1.863772e-01  5.285536e-01   \n",
       "max    5.041069e+00  5.591971e+00  3.942090e+01  2.720284e+01  1.050309e+01   \n",
       "\n",
       "                V23           V24           V25           V26           V27  \\\n",
       "count  2.848070e+05  2.848070e+05  2.848070e+05  2.848070e+05  2.848070e+05   \n",
       "mean  -9.725303e-13  1.464139e-12 -6.989087e-13 -5.615260e-13  3.332112e-12   \n",
       "std    6.244603e-01  6.056471e-01  5.212781e-01  4.822270e-01  4.036325e-01   \n",
       "min   -4.480774e+01 -2.836627e+00 -1.029540e+01 -2.604551e+00 -2.256568e+01   \n",
       "25%   -1.618463e-01 -3.545861e-01 -3.171451e-01 -3.269839e-01 -7.083953e-02   \n",
       "50%   -1.119293e-02  4.097606e-02  1.659350e-02 -5.213911e-02  1.342146e-03   \n",
       "75%    1.476421e-01  4.395266e-01  3.507156e-01  2.409522e-01  9.104512e-02   \n",
       "max    2.252841e+01  4.584549e+00  7.519589e+00  3.517346e+00  3.161220e+01   \n",
       "\n",
       "                V28         Amount          Class  \n",
       "count  2.848070e+05  284807.000000  284807.000000  \n",
       "mean  -3.518886e-12      88.349619       0.001727  \n",
       "std    3.300833e-01     250.120109       0.041527  \n",
       "min   -1.543008e+01       0.000000       0.000000  \n",
       "25%   -5.295979e-02       5.600000       0.000000  \n",
       "50%    1.124383e-02      22.000000       0.000000  \n",
       "75%    7.827995e-02      77.165000       0.000000  \n",
       "max    3.384781e+01   25691.160000       1.000000  "
      ]
     },
     "execution_count": 5,
     "metadata": {},
     "output_type": "execute_result"
    }
   ],
   "source": [
    "#Describing the data ranges\n",
    "df.describe()"
   ]
  },
  {
   "cell_type": "code",
   "execution_count": 6,
   "metadata": {},
   "outputs": [
    {
     "data": {
      "text/plain": [
       "Class\n",
       "0    284315\n",
       "1       492\n",
       "dtype: int64"
      ]
     },
     "execution_count": 6,
     "metadata": {},
     "output_type": "execute_result"
    }
   ],
   "source": [
    "#Let us look at how many are fraud transactions and how many are not.  Looks like they are skewed, \n",
    "#with most of them not fraud cases.\n",
    "df.groupby(by =['Class']).size()"
   ]
  },
  {
   "cell_type": "code",
   "execution_count": 7,
   "metadata": {},
   "outputs": [
    {
     "data": {
      "text/plain": [
       "Time      0\n",
       "V1        5\n",
       "V2        0\n",
       "V3        0\n",
       "V4        0\n",
       "V5        0\n",
       "V6        1\n",
       "V7        1\n",
       "V8        1\n",
       "V9        1\n",
       "V10       1\n",
       "V11       0\n",
       "V12       0\n",
       "V13       0\n",
       "V14       0\n",
       "V15       0\n",
       "V16       0\n",
       "V17       0\n",
       "V18       0\n",
       "V19       0\n",
       "V20       0\n",
       "V21       0\n",
       "V22       0\n",
       "V23       0\n",
       "V24       0\n",
       "V25       0\n",
       "V26       0\n",
       "V27       0\n",
       "V28       0\n",
       "Amount    0\n",
       "Class     0\n",
       "dtype: int64"
      ]
     },
     "execution_count": 7,
     "metadata": {},
     "output_type": "execute_result"
    }
   ],
   "source": [
    "#Let us look at how many nulls are in the data\n",
    "df.isna().sum()"
   ]
  },
  {
   "cell_type": "code",
   "execution_count": 8,
   "metadata": {},
   "outputs": [
    {
     "data": {
      "text/plain": [
       "(284797, 31)"
      ]
     },
     "execution_count": 8,
     "metadata": {},
     "output_type": "execute_result"
    }
   ],
   "source": [
    "#Let us drop all the nulls\n",
    "df = df.dropna(axis = 0, how = 'any')\n",
    "df.shape\n",
    "#from 284807 we moved to 284797, removed 10 nulls"
   ]
  },
  {
   "cell_type": "code",
   "execution_count": 9,
   "metadata": {},
   "outputs": [
    {
     "data": {
      "text/plain": [
       "Time      124587\n",
       "V1        276544\n",
       "V2        277076\n",
       "V3        276342\n",
       "V4        277076\n",
       "V5        276342\n",
       "V6        276338\n",
       "V7        277071\n",
       "V8        276537\n",
       "V9        276340\n",
       "V10       275636\n",
       "V11       276336\n",
       "V12       276547\n",
       "V13       275647\n",
       "V14       276336\n",
       "V15       275643\n",
       "V16       275635\n",
       "V17       277071\n",
       "V18       275645\n",
       "V19       275635\n",
       "V20       275622\n",
       "V21       275607\n",
       "V22       275634\n",
       "V23       275601\n",
       "V24       275635\n",
       "V25       275630\n",
       "V26       275637\n",
       "V27       275587\n",
       "V28       275548\n",
       "Amount     32766\n",
       "Class          2\n",
       "dtype: int64"
      ]
     },
     "execution_count": 9,
     "metadata": {},
     "output_type": "execute_result"
    }
   ],
   "source": [
    "#Let us see how many unique values are there for each of the columns\n",
    "df.nunique()"
   ]
  },
  {
   "cell_type": "code",
   "execution_count": 10,
   "metadata": {},
   "outputs": [],
   "source": [
    "#We want to delete any duplicates in V8 column\n",
    "#So let us look at how many duplicates in V8\n",
    "repeatV8 = df.groupby(by = 'V8').size().sort_values(ascending =False)"
   ]
  },
  {
   "cell_type": "code",
   "execution_count": 11,
   "metadata": {},
   "outputs": [
    {
     "data": {
      "text/plain": [
       "<bound method NDFrame.head of V8\n",
       "0.7277062009999999      77\n",
       "-0.160210863            62\n",
       "-0.20707138             62\n",
       "0.959147262             60\n",
       "0.7843929479999999      53\n",
       "0.543376801             48\n",
       "0.364538762             37\n",
       "0.556451026             36\n",
       "0.56212904              35\n",
       "0.791275785             30\n",
       "0.196359736             28\n",
       "1.0549113               27\n",
       "0.8082500979999999      26\n",
       "0.683351734             25\n",
       "0.385854691             25\n",
       "0.483431896             24\n",
       "0.411448711             24\n",
       "0.875786376             23\n",
       "0.68515377              23\n",
       "0.714514353             21\n",
       "0.683351734             20\n",
       "0.7915586990000001      20\n",
       "-0.487200972            19\n",
       "-0.20145337100000002    19\n",
       "-0.156000514            18\n",
       "-0.150910895            18\n",
       "0.7846758620000001      18\n",
       "0.851077917             17\n",
       "0.7996752220000001      16\n",
       "0.804860255             16\n",
       "                        ..\n",
       "0.613423103              1\n",
       "0.613397265              1\n",
       "0.613389403              1\n",
       "0.613387361              1\n",
       "0.613377617              1\n",
       "0.613372346              1\n",
       "0.61335304               1\n",
       "0.613343135              1\n",
       "0.613339463              1\n",
       "0.613336809              1\n",
       "0.613311751              1\n",
       "0.613299162              1\n",
       "0.613298299              1\n",
       "0.613290872              1\n",
       "0.613269262              1\n",
       "0.613257465              1\n",
       "0.613249179              1\n",
       "0.6132267570000001       1\n",
       "0.613198537              1\n",
       "0.6131814320000001       1\n",
       "0.613122431              1\n",
       "0.613114776              1\n",
       "0.613109247              1\n",
       "0.613057415              1\n",
       "0.613054622              1\n",
       "0.6130483                1\n",
       "0.613035847              1\n",
       "0.6130257720000001       1\n",
       "0.613010814              1\n",
       "-50.94336887             1\n",
       "Length: 276537, dtype: int64>"
      ]
     },
     "execution_count": 11,
     "metadata": {},
     "output_type": "execute_result"
    }
   ],
   "source": [
    "#There are several duplicates at most 77 duplicates for a specific values\n",
    "#Let us assume that V8 should not have any duplicates > 20\n",
    "repeatV8.head"
   ]
  },
  {
   "cell_type": "code",
   "execution_count": 12,
   "metadata": {},
   "outputs": [
    {
     "data": {
      "text/plain": [
       "(13, 2)"
      ]
     },
     "execution_count": 12,
     "metadata": {},
     "output_type": "execute_result"
    }
   ],
   "source": [
    "#Let us identify duplicate V8 values which occur more than 25 times, from the table.\n",
    "filteredV8 = repeatV8[repeatV8 > 25].to_frame().reset_index()\n",
    "filteredV8.shape\n",
    "#So there are 13 unique values of V8 which repeat more than 25 times."
   ]
  },
  {
   "cell_type": "code",
   "execution_count": 13,
   "metadata": {},
   "outputs": [
    {
     "data": {
      "text/plain": [
       "0        0.727706\n",
       "1       -0.160211\n",
       "2       -0.207071\n",
       "3        0.959147\n",
       "4        0.784393\n",
       "5        0.543377\n",
       "6        0.364539\n",
       "7     0.556451026\n",
       "8        0.562129\n",
       "9        0.791276\n",
       "10    0.196359736\n",
       "11        1.05491\n",
       "12        0.80825\n",
       "Name: V8, dtype: object"
      ]
     },
     "execution_count": 13,
     "metadata": {},
     "output_type": "execute_result"
    }
   ],
   "source": [
    "#So these are the values to be deleted.\n",
    "filteredV8.V8\n",
    "#So there are 13 unique values of V8 which repeat more than 25 times."
   ]
  },
  {
   "cell_type": "code",
   "execution_count": 14,
   "metadata": {},
   "outputs": [],
   "source": [
    "#The following will be deleted, for duplicates\n",
    "a1 = df[df.V8.isin(filteredV8.V8)]"
   ]
  },
  {
   "cell_type": "code",
   "execution_count": 15,
   "metadata": {},
   "outputs": [
    {
     "data": {
      "text/plain": [
       "(581, 31)"
      ]
     },
     "execution_count": 15,
     "metadata": {},
     "output_type": "execute_result"
    }
   ],
   "source": [
    "#581 rows will be deleted\n",
    "a1.shape"
   ]
  },
  {
   "cell_type": "code",
   "execution_count": 16,
   "metadata": {},
   "outputs": [
    {
     "data": {
      "text/plain": [
       "(284216, 31)"
      ]
     },
     "execution_count": 16,
     "metadata": {},
     "output_type": "execute_result"
    }
   ],
   "source": [
    "#Now extract out the V8 values which are duplicated. The ~ retains the ones that are not in the list\n",
    "df = df[~df.V8.isin(filteredV8.V8)]\n",
    "df.shape\n",
    "#284216 + 581 = 284797"
   ]
  },
  {
   "cell_type": "code",
   "execution_count": 21,
   "metadata": {},
   "outputs": [
    {
     "data": {
      "text/plain": [
       "<matplotlib.axes._subplots.AxesSubplot at 0x199872d8dd8>"
      ]
     },
     "execution_count": 21,
     "metadata": {},
     "output_type": "execute_result"
    },
    {
     "data": {
      "image/png": "[encoded data removed]",
      "text/plain": [
       "<Figure size 432x288 with 1 Axes>"
      ]
     },
     "metadata": {
      "needs_background": "light"
     },
     "output_type": "display_data"
    }
   ],
   "source": [
    "df['V13'].plot.kde()"
   ]
  },
  {
   "cell_type": "code",
   "execution_count": 18,
   "metadata": {},
   "outputs": [
    {
     "data": {
      "text/plain": [
       "(283033, 31)"
      ]
     },
     "execution_count": 18,
     "metadata": {},
     "output_type": "execute_result"
    }
   ],
   "source": [
    "#Remove all rows with V13 values > 3 std dev\n",
    "df = df[~(np.abs(df.V13-df.V13.mean()) > (3*df.V13.std()))]\n",
    "df.shape"
   ]
  },
  {
   "cell_type": "code",
   "execution_count": 22,
   "metadata": {},
   "outputs": [
    {
     "data": {
      "text/plain": [
       "<matplotlib.axes._subplots.AxesSubplot at 0x1998785d550>"
      ]
     },
     "execution_count": 22,
     "metadata": {},
     "output_type": "execute_result"
    },
    {
     "data": {
      "image/png": "[encoded data removed]",
      "text/plain": [
       "<Figure size 432x288 with 1 Axes>"
      ]
     },
     "metadata": {
      "needs_background": "light"
     },
     "output_type": "display_data"
    }
   ],
   "source": [
    "df['V13'].plot.kde()"
   ]
  },
  {
   "cell_type": "code",
   "execution_count": 19,
   "metadata": {},
   "outputs": [],
   "source": [
    "#Keep only those that are within 5 std deviation from the mean for V15\n",
    "df = df[~(np.abs(df.V15-df.V15.mean()) > (5*df.V15.std()))]"
   ]
  },
  {
   "cell_type": "code",
   "execution_count": 20,
   "metadata": {},
   "outputs": [
    {
     "data": {
      "text/plain": [
       "(277397, 31)"
      ]
     },
     "execution_count": 20,
     "metadata": {},
     "output_type": "execute_result"
    }
   ],
   "source": [
    "#Remove the top 1% and bottom 1% of V16\n",
    "q = df['V16'].quantile(0.99)\n",
    "df = df[df[\"V16\"] < q]\n",
    "q = df['V16'].quantile(0.01)\n",
    "df = df[df[\"V16\"] > q]\n",
    "df.shape"
   ]
  },
  {
   "cell_type": "code",
   "execution_count": null,
   "metadata": {},
   "outputs": [],
   "source": []
  }
 ],
 "metadata": {
  "kernelspec": {
   "display_name": "Python 3",
   "language": "python",
   "name": "python3"
  },
  "language_info": {
   "codemirror_mode": {
    "name": "ipython",
    "version": 3
   },
   "file_extension": ".py",
   "mimetype": "text/x-python",
   "name": "python",
   "nbconvert_exporter": "python",
   "pygments_lexer": "ipython3",
   "version": "3.7.1"
  }
 },
 "nbformat": 4,
 "nbformat_minor": 2
}
