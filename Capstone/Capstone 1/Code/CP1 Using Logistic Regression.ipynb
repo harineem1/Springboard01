{
 "cells": [
  {
   "cell_type": "code",
   "execution_count": 59,
   "metadata": {},
   "outputs": [],
   "source": [
    "import csv\n",
    "import matplotlib.pyplot as plt\n",
    "import numpy as np\n",
    "import pandas as pd\n",
    "import seaborn as sns\n",
    "from sklearn import metrics\n",
    "from sklearn.datasets import make_classification\n",
    "from sklearn.linear_model import LogisticRegression\n",
    "from sklearn.metrics import classification_report, confusion_matrix, roc_curve, roc_auc_score, auc, accuracy_score\n",
    "from sklearn.model_selection import ShuffleSplit, train_test_split, cross_val_score, GridSearchCV\n",
    "from sklearn.preprocessing import OneHotEncoder, LabelEncoder, label_binarize, StandardScaler, MinMaxScaler\n",
    "from pprint import pprint\n",
    "import warnings\n",
    "warnings.filterwarnings(\"ignore\", category=DeprecationWarning)\n",
    "sns.set_context('notebook')\n",
    "sns.set_style(style='darkgrid')\n",
    "%matplotlib inline"
   ]
  },
  {
   "cell_type": "code",
   "execution_count": 60,
   "metadata": {},
   "outputs": [],
   "source": [
    "from sklearn.svm import SVC\n",
    "from sklearn.neighbors import KNeighborsClassifier\n",
    "from sklearn.tree import DecisionTreeClassifier\n",
    "from sklearn.ensemble import RandomForestClassifier\n",
    "import collections\n",
    "# Other Libraries\n",
    "from sklearn.model_selection import train_test_split\n",
    "from sklearn.pipeline import make_pipeline\n",
    "#from imblearn.pipeline import make_pipeline as imbalanced_make_pipeline\n",
    "#from imblearn.over_sampling import SMOTE\n",
    "#from imblearn.under_sampling import NearMiss\n",
    "#from imblearn.metrics import classification_report_imbalanced\n",
    "from sklearn.metrics import precision_score, recall_score, f1_score, roc_auc_score, accuracy_score, classification_report\n",
    "from collections import Counter\n",
    "from sklearn.model_selection import KFold, StratifiedKFold"
   ]
  },
  {
   "cell_type": "code",
   "execution_count": 61,
   "metadata": {},
   "outputs": [],
   "source": [
    "def get_roc(y_test, y_pred):\n",
    "    #Compute ROC curve and ROC area for each class\n",
    "    fpr = dict()\n",
    "    tpr = dict()\n",
    "    roc_auc = dict()\n",
    "    fpr, tpr, _ = roc_curve(y_test, y_pred)\n",
    "    roc_auc = auc(fpr, tpr)\n",
    "    #Plot of a ROC Curve\n",
    "    plt.figure()\n",
    "    lw = 2\n",
    "    plt.plot(fpr, tpr, color='darkorange', label=\"ROC curve (area = %0.2f)\" % roc_auc)\n",
    "    plt.plot([0,1], [0,1], color='navy', lw=lw, linestyle='--')\n",
    "    plt.xlim([0.0, 1.0])\n",
    "    plt.ylim([0.0, 1.0])\n",
    "    plt.xlabel('False Positive Rate')\n",
    "    plt.ylabel('True Positive Rate')\n",
    "    plt.title('Receiver Operating Characteristics')\n",
    "    plt.legend(loc='upper left')\n",
    "    plt.show()\n",
    "    return\n",
    "\n"
   ]
  },
  {
   "cell_type": "code",
   "execution_count": 62,
   "metadata": {},
   "outputs": [
    {
     "data": {
      "text/html": [
       "<div>\n",
       "<style scoped>\n",
       "    .dataframe tbody tr th:only-of-type {\n",
       "        vertical-align: middle;\n",
       "    }\n",
       "\n",
       "    .dataframe tbody tr th {\n",
       "        vertical-align: top;\n",
       "    }\n",
       "\n",
       "    .dataframe thead th {\n",
       "        text-align: right;\n",
       "    }\n",
       "</style>\n",
       "<table border=\"1\" class=\"dataframe\">\n",
       "  <thead>\n",
       "    <tr style=\"text-align: right;\">\n",
       "      <th></th>\n",
       "      <th>Time</th>\n",
       "      <th>V1</th>\n",
       "      <th>V2</th>\n",
       "      <th>V3</th>\n",
       "      <th>V4</th>\n",
       "      <th>V5</th>\n",
       "      <th>V6</th>\n",
       "      <th>V7</th>\n",
       "      <th>V8</th>\n",
       "      <th>V9</th>\n",
       "      <th>...</th>\n",
       "      <th>V21</th>\n",
       "      <th>V22</th>\n",
       "      <th>V23</th>\n",
       "      <th>V24</th>\n",
       "      <th>V25</th>\n",
       "      <th>V26</th>\n",
       "      <th>V27</th>\n",
       "      <th>V28</th>\n",
       "      <th>Amount</th>\n",
       "      <th>Class</th>\n",
       "    </tr>\n",
       "  </thead>\n",
       "  <tbody>\n",
       "    <tr>\n",
       "      <th>0</th>\n",
       "      <td>0.0</td>\n",
       "      <td>-1.359807</td>\n",
       "      <td>-0.072781</td>\n",
       "      <td>2.536347</td>\n",
       "      <td>1.378155</td>\n",
       "      <td>-0.338321</td>\n",
       "      <td>0.462388</td>\n",
       "      <td>0.239599</td>\n",
       "      <td>0.098698</td>\n",
       "      <td>0.363787</td>\n",
       "      <td>...</td>\n",
       "      <td>-0.018307</td>\n",
       "      <td>0.277838</td>\n",
       "      <td>-0.110474</td>\n",
       "      <td>0.066928</td>\n",
       "      <td>0.128539</td>\n",
       "      <td>-0.189115</td>\n",
       "      <td>0.133558</td>\n",
       "      <td>-0.021053</td>\n",
       "      <td>149.62</td>\n",
       "      <td>0</td>\n",
       "    </tr>\n",
       "    <tr>\n",
       "      <th>1</th>\n",
       "      <td>0.0</td>\n",
       "      <td>1.191857</td>\n",
       "      <td>0.266151</td>\n",
       "      <td>0.166480</td>\n",
       "      <td>0.448154</td>\n",
       "      <td>0.060018</td>\n",
       "      <td>-0.082361</td>\n",
       "      <td>-0.078803</td>\n",
       "      <td>0.085102</td>\n",
       "      <td>-0.255425</td>\n",
       "      <td>...</td>\n",
       "      <td>-0.225775</td>\n",
       "      <td>-0.638672</td>\n",
       "      <td>0.101288</td>\n",
       "      <td>-0.339846</td>\n",
       "      <td>0.167170</td>\n",
       "      <td>0.125895</td>\n",
       "      <td>-0.008983</td>\n",
       "      <td>0.014724</td>\n",
       "      <td>2.69</td>\n",
       "      <td>0</td>\n",
       "    </tr>\n",
       "    <tr>\n",
       "      <th>2</th>\n",
       "      <td>1.0</td>\n",
       "      <td>-1.358354</td>\n",
       "      <td>-1.340163</td>\n",
       "      <td>1.773209</td>\n",
       "      <td>0.379780</td>\n",
       "      <td>-0.503198</td>\n",
       "      <td>1.800499</td>\n",
       "      <td>0.791461</td>\n",
       "      <td>0.247676</td>\n",
       "      <td>-1.514654</td>\n",
       "      <td>...</td>\n",
       "      <td>0.247998</td>\n",
       "      <td>0.771679</td>\n",
       "      <td>0.909412</td>\n",
       "      <td>-0.689281</td>\n",
       "      <td>-0.327642</td>\n",
       "      <td>-0.139097</td>\n",
       "      <td>-0.055353</td>\n",
       "      <td>-0.059752</td>\n",
       "      <td>378.66</td>\n",
       "      <td>0</td>\n",
       "    </tr>\n",
       "    <tr>\n",
       "      <th>3</th>\n",
       "      <td>1.0</td>\n",
       "      <td>-0.966272</td>\n",
       "      <td>-0.185226</td>\n",
       "      <td>1.792993</td>\n",
       "      <td>-0.863291</td>\n",
       "      <td>-0.010309</td>\n",
       "      <td>1.247203</td>\n",
       "      <td>0.237609</td>\n",
       "      <td>0.377436</td>\n",
       "      <td>-1.387024</td>\n",
       "      <td>...</td>\n",
       "      <td>-0.108300</td>\n",
       "      <td>0.005274</td>\n",
       "      <td>-0.190321</td>\n",
       "      <td>-1.175575</td>\n",
       "      <td>0.647376</td>\n",
       "      <td>-0.221929</td>\n",
       "      <td>0.062723</td>\n",
       "      <td>0.061458</td>\n",
       "      <td>123.50</td>\n",
       "      <td>0</td>\n",
       "    </tr>\n",
       "    <tr>\n",
       "      <th>4</th>\n",
       "      <td>2.0</td>\n",
       "      <td>-1.158233</td>\n",
       "      <td>0.877737</td>\n",
       "      <td>1.548718</td>\n",
       "      <td>0.403034</td>\n",
       "      <td>-0.407193</td>\n",
       "      <td>0.095921</td>\n",
       "      <td>0.592941</td>\n",
       "      <td>-0.270533</td>\n",
       "      <td>0.817739</td>\n",
       "      <td>...</td>\n",
       "      <td>-0.009431</td>\n",
       "      <td>0.798278</td>\n",
       "      <td>-0.137458</td>\n",
       "      <td>0.141267</td>\n",
       "      <td>-0.206010</td>\n",
       "      <td>0.502292</td>\n",
       "      <td>0.219422</td>\n",
       "      <td>0.215153</td>\n",
       "      <td>69.99</td>\n",
       "      <td>0</td>\n",
       "    </tr>\n",
       "    <tr>\n",
       "      <th>5</th>\n",
       "      <td>2.0</td>\n",
       "      <td>-0.425966</td>\n",
       "      <td>0.960523</td>\n",
       "      <td>1.141109</td>\n",
       "      <td>-0.168252</td>\n",
       "      <td>0.420987</td>\n",
       "      <td>-0.029728</td>\n",
       "      <td>0.476201</td>\n",
       "      <td>0.260314</td>\n",
       "      <td>-0.568671</td>\n",
       "      <td>...</td>\n",
       "      <td>-0.208254</td>\n",
       "      <td>-0.559825</td>\n",
       "      <td>-0.026398</td>\n",
       "      <td>-0.371427</td>\n",
       "      <td>-0.232794</td>\n",
       "      <td>0.105915</td>\n",
       "      <td>0.253844</td>\n",
       "      <td>0.081080</td>\n",
       "      <td>3.67</td>\n",
       "      <td>0</td>\n",
       "    </tr>\n",
       "    <tr>\n",
       "      <th>6</th>\n",
       "      <td>4.0</td>\n",
       "      <td>1.229658</td>\n",
       "      <td>0.141004</td>\n",
       "      <td>0.045371</td>\n",
       "      <td>1.202613</td>\n",
       "      <td>0.191881</td>\n",
       "      <td>0.272708</td>\n",
       "      <td>-0.005159</td>\n",
       "      <td>0.081213</td>\n",
       "      <td>0.464960</td>\n",
       "      <td>...</td>\n",
       "      <td>-0.167716</td>\n",
       "      <td>-0.270710</td>\n",
       "      <td>-0.154104</td>\n",
       "      <td>-0.780055</td>\n",
       "      <td>0.750137</td>\n",
       "      <td>-0.257237</td>\n",
       "      <td>0.034507</td>\n",
       "      <td>0.005168</td>\n",
       "      <td>4.99</td>\n",
       "      <td>0</td>\n",
       "    </tr>\n",
       "    <tr>\n",
       "      <th>7</th>\n",
       "      <td>7.0</td>\n",
       "      <td>-0.644269</td>\n",
       "      <td>1.417964</td>\n",
       "      <td>1.074380</td>\n",
       "      <td>-0.492199</td>\n",
       "      <td>0.948934</td>\n",
       "      <td>0.428118</td>\n",
       "      <td>1.120631</td>\n",
       "      <td>-3.807864</td>\n",
       "      <td>0.615375</td>\n",
       "      <td>...</td>\n",
       "      <td>1.943465</td>\n",
       "      <td>-1.015455</td>\n",
       "      <td>0.057504</td>\n",
       "      <td>-0.649709</td>\n",
       "      <td>-0.415267</td>\n",
       "      <td>-0.051634</td>\n",
       "      <td>-1.206921</td>\n",
       "      <td>-1.085339</td>\n",
       "      <td>40.80</td>\n",
       "      <td>0</td>\n",
       "    </tr>\n",
       "    <tr>\n",
       "      <th>8</th>\n",
       "      <td>7.0</td>\n",
       "      <td>-0.894286</td>\n",
       "      <td>0.286157</td>\n",
       "      <td>-0.113192</td>\n",
       "      <td>-0.271526</td>\n",
       "      <td>2.669599</td>\n",
       "      <td>3.721818</td>\n",
       "      <td>0.370145</td>\n",
       "      <td>0.851084</td>\n",
       "      <td>-0.392048</td>\n",
       "      <td>...</td>\n",
       "      <td>-0.073425</td>\n",
       "      <td>-0.268092</td>\n",
       "      <td>-0.204233</td>\n",
       "      <td>1.011592</td>\n",
       "      <td>0.373205</td>\n",
       "      <td>-0.384157</td>\n",
       "      <td>0.011747</td>\n",
       "      <td>0.142404</td>\n",
       "      <td>93.20</td>\n",
       "      <td>0</td>\n",
       "    </tr>\n",
       "    <tr>\n",
       "      <th>9</th>\n",
       "      <td>9.0</td>\n",
       "      <td>-0.338262</td>\n",
       "      <td>1.119593</td>\n",
       "      <td>1.044367</td>\n",
       "      <td>-0.222187</td>\n",
       "      <td>0.499361</td>\n",
       "      <td>-0.246761</td>\n",
       "      <td>0.651583</td>\n",
       "      <td>0.069539</td>\n",
       "      <td>-0.736727</td>\n",
       "      <td>...</td>\n",
       "      <td>-0.246914</td>\n",
       "      <td>-0.633753</td>\n",
       "      <td>-0.120794</td>\n",
       "      <td>-0.385050</td>\n",
       "      <td>-0.069733</td>\n",
       "      <td>0.094199</td>\n",
       "      <td>0.246219</td>\n",
       "      <td>0.083076</td>\n",
       "      <td>3.68</td>\n",
       "      <td>0</td>\n",
       "    </tr>\n",
       "  </tbody>\n",
       "</table>\n",
       "<p>10 rows × 31 columns</p>\n",
       "</div>"
      ],
      "text/plain": [
       "   Time        V1        V2        V3        V4        V5        V6        V7  \\\n",
       "0   0.0 -1.359807 -0.072781  2.536347  1.378155 -0.338321  0.462388  0.239599   \n",
       "1   0.0  1.191857  0.266151  0.166480  0.448154  0.060018 -0.082361 -0.078803   \n",
       "2   1.0 -1.358354 -1.340163  1.773209  0.379780 -0.503198  1.800499  0.791461   \n",
       "3   1.0 -0.966272 -0.185226  1.792993 -0.863291 -0.010309  1.247203  0.237609   \n",
       "4   2.0 -1.158233  0.877737  1.548718  0.403034 -0.407193  0.095921  0.592941   \n",
       "5   2.0 -0.425966  0.960523  1.141109 -0.168252  0.420987 -0.029728  0.476201   \n",
       "6   4.0  1.229658  0.141004  0.045371  1.202613  0.191881  0.272708 -0.005159   \n",
       "7   7.0 -0.644269  1.417964  1.074380 -0.492199  0.948934  0.428118  1.120631   \n",
       "8   7.0 -0.894286  0.286157 -0.113192 -0.271526  2.669599  3.721818  0.370145   \n",
       "9   9.0 -0.338262  1.119593  1.044367 -0.222187  0.499361 -0.246761  0.651583   \n",
       "\n",
       "         V8        V9  ...       V21       V22       V23       V24       V25  \\\n",
       "0  0.098698  0.363787  ... -0.018307  0.277838 -0.110474  0.066928  0.128539   \n",
       "1  0.085102 -0.255425  ... -0.225775 -0.638672  0.101288 -0.339846  0.167170   \n",
       "2  0.247676 -1.514654  ...  0.247998  0.771679  0.909412 -0.689281 -0.327642   \n",
       "3  0.377436 -1.387024  ... -0.108300  0.005274 -0.190321 -1.175575  0.647376   \n",
       "4 -0.270533  0.817739  ... -0.009431  0.798278 -0.137458  0.141267 -0.206010   \n",
       "5  0.260314 -0.568671  ... -0.208254 -0.559825 -0.026398 -0.371427 -0.232794   \n",
       "6  0.081213  0.464960  ... -0.167716 -0.270710 -0.154104 -0.780055  0.750137   \n",
       "7 -3.807864  0.615375  ...  1.943465 -1.015455  0.057504 -0.649709 -0.415267   \n",
       "8  0.851084 -0.392048  ... -0.073425 -0.268092 -0.204233  1.011592  0.373205   \n",
       "9  0.069539 -0.736727  ... -0.246914 -0.633753 -0.120794 -0.385050 -0.069733   \n",
       "\n",
       "        V26       V27       V28  Amount  Class  \n",
       "0 -0.189115  0.133558 -0.021053  149.62      0  \n",
       "1  0.125895 -0.008983  0.014724    2.69      0  \n",
       "2 -0.139097 -0.055353 -0.059752  378.66      0  \n",
       "3 -0.221929  0.062723  0.061458  123.50      0  \n",
       "4  0.502292  0.219422  0.215153   69.99      0  \n",
       "5  0.105915  0.253844  0.081080    3.67      0  \n",
       "6 -0.257237  0.034507  0.005168    4.99      0  \n",
       "7 -0.051634 -1.206921 -1.085339   40.80      0  \n",
       "8 -0.384157  0.011747  0.142404   93.20      0  \n",
       "9  0.094199  0.246219  0.083076    3.68      0  \n",
       "\n",
       "[10 rows x 31 columns]"
      ]
     },
     "execution_count": 62,
     "metadata": {},
     "output_type": "execute_result"
    }
   ],
   "source": [
    "data = pd.read_csv('C:\\Harinee\\Projects\\Capstone inference\\Data\\creditcard.csv')\n",
    "data.head(10)\n"
   ]
  },
  {
   "cell_type": "markdown",
   "metadata": {},
   "source": [
    "(1) When doing the train/test split, it would be important\n",
    "to preserver the proportion among the classes in\n",
    "both sets."
   ]
  },
  {
   "cell_type": "code",
   "execution_count": 63,
   "metadata": {},
   "outputs": [],
   "source": [
    "X = data.drop('Class', axis=1)\n",
    "y = data['Class']\n",
    "X_train, X_test, y_train, y_test = train_test_split(X, y, test_size = 0.2, random_state=1)\n"
   ]
  },
  {
   "cell_type": "markdown",
   "metadata": {},
   "source": [
    "did the proportion is reflected in the split of 80 and 20"
   ]
  },
  {
   "cell_type": "code",
   "execution_count": 64,
   "metadata": {},
   "outputs": [],
   "source": [
    "X_train, X_test, y_train, y_test = train_test_split(X, y, test_size=0.2, stratify=y, random_state=123, shuffle=True)"
   ]
  },
  {
   "cell_type": "code",
   "execution_count": 65,
   "metadata": {},
   "outputs": [],
   "source": [
    "# Create a scaler object\n",
    "sc = StandardScaler()\n",
    "\n",
    "# Fit the scaler to the training data and transform\n",
    "X_train_std = sc.fit_transform(X_train)\n",
    "\n",
    "# Apply the scaler to the test data\n",
    "X_test_std = sc.transform(X_test)"
   ]
  },
  {
   "cell_type": "markdown",
   "metadata": {},
   "source": [
    "(4) If regularization is needed, it would be interesting to\n",
    "see both L1 and L2 regularization (parameter 'penalty')."
   ]
  },
  {
   "cell_type": "code",
   "execution_count": 66,
   "metadata": {},
   "outputs": [],
   "source": [
    "#This displays a sample confusion matrix and ROC\n",
    "def analyzePredictions(model, X_test, y_test):\n",
    "    y_pred = model.predict(X_test)\n",
    "    cnf_matrix = confusion_matrix(y_test, y_pred)\n",
    "    #------------------------------\n",
    "    drawConfusionMatrix(cnf_matrix)\n",
    "    #-----------------------------------------\n",
    "    print(\"Accuracy:\",metrics.accuracy_score(y_test, y_pred))\n",
    "    print(\"Precision:\",metrics.precision_score(y_test, y_pred))\n",
    "    print(\"Recall:\",metrics.recall_score(y_test, y_pred))\n",
    "    #------------------------------------------\n",
    "    y_pred_proba = model.predict_proba(X_test)[:,1]\n",
    "    get_roc(y_test, y_pred_proba)"
   ]
  },
  {
   "cell_type": "code",
   "execution_count": 67,
   "metadata": {},
   "outputs": [],
   "source": []
  },
  {
   "cell_type": "code",
   "execution_count": 68,
   "metadata": {},
   "outputs": [],
   "source": [
    "def drawConfusionMatrix(cnf_matrix):\n",
    "    print(cnf_matrix)\n",
    "    class_names=[0,1] # name  of classes\n",
    "    fig, ax = plt.subplots()\n",
    "    tick_marks = np.arange(len(class_names))\n",
    "    plt.xticks(tick_marks, class_names)\n",
    "    plt.yticks(tick_marks, class_names)\n",
    "    # create heatmap\n",
    "    sns.heatmap(pd.DataFrame(cnf_matrix), annot=True, cmap=\"YlGnBu\" ,fmt='g')\n",
    "    ax.xaxis.set_label_position(\"top\")\n",
    "    plt.tight_layout()\n",
    "    plt.title('Confusion matrix', y=1.1)\n",
    "    plt.ylabel('Actual label')\n",
    "    plt.xlabel('Predicted label')"
   ]
  },
  {
   "cell_type": "code",
   "execution_count": 69,
   "metadata": {},
   "outputs": [
    {
     "name": "stdout",
     "output_type": "stream",
     "text": [
      "Logistic Regression\n",
      "[[56852    12]\n",
      " [   39    59]]\n"
     ]
    },
    {
     "data": {
      "image/png": "[encoded data removed]",
      "text/plain": [
       "<Figure size 432x288 with 1 Axes>"
      ]
     },
     "metadata": {
      "needs_background": "light"
     },
     "output_type": "display_data"
    }
   ],
   "source": [
    "#Logistic Regression\n",
    "#Use Logistic Regression using the train data, then compute the confusion matrix and the AUC.\n",
    "from sklearn.linear_model import LogisticRegression\n",
    "print (\"Logistic Regression\")\n",
    "def logregclf(X_train, y_train, X_test, y_test):\n",
    "    model = LogisticRegression(solver='lbfgs', max_iter=500, C=10).fit(X_train, y_train)\n",
    "    y_pred = model.predict(X_test)\n",
    "    print(confusion_matrix(y_test, y_pred))\n",
    "    y_pred_proba = model.predict_proba(X_test)[:,1]\n",
    "    get_roc(y_test, y_pred_proba)\n",
    "    return\n",
    "logregclf(X_train, y_train, X_test, y_test)"
   ]
  },
  {
   "cell_type": "code",
   "execution_count": 70,
   "metadata": {},
   "outputs": [
    {
     "name": "stderr",
     "output_type": "stream",
     "text": [
      "C:\\ProgramData\\Anaconda3\\lib\\site-packages\\sklearn\\linear_model\\logistic.py:433: FutureWarning: Default solver will be changed to 'lbfgs' in 0.22. Specify a solver to silence this warning.\n",
      "  FutureWarning)\n"
     ]
    },
    {
     "name": "stdout",
     "output_type": "stream",
     "text": [
      "[[227362     89]\n",
      " [   124    270]]\n",
      "Accuracy: 0.999065153942373\n",
      "Precision: 0.7520891364902507\n",
      "Recall: 0.6852791878172588\n"
     ]
    },
    {
     "data": {
      "image/png": "[encoded data removed]",
      "text/plain": [
       "<Figure size 432x288 with 2 Axes>"
      ]
     },
     "metadata": {
      "needs_background": "light"
     },
     "output_type": "display_data"
    },
    {
     "data": {
      "image/png": "[encoded data removed]",
      "text/plain": [
       "<Figure size 432x288 with 1 Axes>"
      ]
     },
     "metadata": {
      "needs_background": "light"
     },
     "output_type": "display_data"
    }
   ],
   "source": [
    "model = LogisticRegression()\n",
    "model.fit(X_train,y_train)\n",
    "analyzePredictions(model, X_train, y_train)"
   ]
  },
  {
   "cell_type": "code",
   "execution_count": 71,
   "metadata": {},
   "outputs": [
    {
     "name": "stderr",
     "output_type": "stream",
     "text": [
      "C:\\ProgramData\\Anaconda3\\lib\\site-packages\\sklearn\\linear_model\\logistic.py:433: FutureWarning: Default solver will be changed to 'lbfgs' in 0.22. Specify a solver to silence this warning.\n",
      "  FutureWarning)\n"
     ]
    },
    {
     "name": "stdout",
     "output_type": "stream",
     "text": [
      "[[56844    20]\n",
      " [   39    59]]\n",
      "Accuracy: 0.9989642217618764\n",
      "Precision: 0.7468354430379747\n",
      "Recall: 0.6020408163265306\n"
     ]
    },
    {
     "data": {
      "image/png": "[encoded data removed]",
      "text/plain": [
       "<Figure size 432x288 with 2 Axes>"
      ]
     },
     "metadata": {
      "needs_background": "light"
     },
     "output_type": "display_data"
    },
    {
     "data": {
      "image/png": "[encoded data removed]",
      "text/plain": [
       "<Figure size 432x288 with 1 Axes>"
      ]
     },
     "metadata": {
      "needs_background": "light"
     },
     "output_type": "display_data"
    }
   ],
   "source": [
    "model = LogisticRegression()\n",
    "model.fit(X_train,y_train)\n",
    "analyzePredictions(model, X_test, y_test)"
   ]
  },
  {
   "cell_type": "markdown",
   "metadata": {},
   "source": [
    "The Model is NOT overfitting. Still run Logistic Regression With A L1 Penalty With Various Regularization Strengths The usefulness of L1 is that it can push feature coefficients to 0, creating a method for feature selection. In the code below we run a logistic regression with a L1 penalty four times, each time decreasing the value of C. We should expect that as C decreases, more coefficients become 0."
   ]
  },
  {
   "cell_type": "code",
   "execution_count": 110,
   "metadata": {},
   "outputs": [
    {
     "name": "stdout",
     "output_type": "stream",
     "text": [
      "C: 10\n",
      "Coefficient of each feature: [[-3.56393101e-06  8.34829154e-02 -2.01661964e-02 -1.30206921e-02\n",
      "   6.56400030e-01  1.13755645e-01 -1.05011498e-01 -9.78680753e-02\n",
      "  -1.67521030e-01 -3.57271213e-01 -8.22741982e-01 -4.90202880e-02\n",
      "   3.30136713e-02 -2.79651418e-01 -5.57638276e-01 -1.13817209e-01\n",
      "  -1.13121632e-01 -4.38573285e-02 -1.96680481e-02  1.15832006e-01\n",
      "  -4.39077013e-01  4.17340837e-01  6.40899256e-01 -4.18797935e-02\n",
      "   2.36471963e-01 -1.93312264e-01  4.81938677e-02 -8.42642024e-01\n",
      "  -2.99753793e-01  7.51291740e-04]]\n",
      "Training accuracy: 0.9985253132612083\n",
      "Test accuracy: 0.9983497770443454\n",
      "\n",
      "C: 1\n",
      "Coefficient of each feature: [[-3.56047585e-06  7.03948020e-02 -2.06101128e-02 -1.29222497e-02\n",
      "   6.38851269e-01  1.07279677e-01 -9.71562410e-02 -8.17676740e-02\n",
      "  -1.70792057e-01 -3.39522363e-01 -7.85864680e-01 -3.64403430e-02\n",
      "   8.49024198e-03 -2.64329102e-01 -5.53913162e-01 -1.07898798e-01\n",
      "  -1.20956893e-01 -4.47919682e-02 -7.51670755e-03  1.04772952e-01\n",
      "  -4.01267129e-01  4.02169721e-01  6.14317237e-01 -4.14427958e-02\n",
      "   2.08402486e-01 -1.82483920e-01  1.63585906e-02 -7.76166040e-01\n",
      "  -2.72548968e-01  6.36531858e-04]]\n",
      "Training accuracy: 0.9986262590796374\n",
      "Test accuracy: 0.9984375548611355\n",
      "\n",
      "C: 0.1\n",
      "Coefficient of each feature: [[-3.97647631e-06  0.00000000e+00  0.00000000e+00 -1.43372488e-02\n",
      "   5.18651425e-01  8.79436345e-02 -2.43430209e-02  0.00000000e+00\n",
      "  -1.85405923e-01 -1.47926672e-01 -4.89487079e-01  0.00000000e+00\n",
      "  -6.48651415e-02 -1.54451868e-01 -6.31946549e-01 -1.45685035e-02\n",
      "  -1.67540954e-01 -8.07442196e-02  0.00000000e+00  8.14725627e-03\n",
      "  -1.02498597e-01  2.73821900e-01  3.92740598e-01 -2.68727056e-02\n",
      "   0.00000000e+00 -8.53464421e-02  0.00000000e+00 -2.09030139e-01\n",
      "  -4.27636620e-02  5.46946817e-05]]\n",
      "Training accuracy: 0.9992143781957032\n",
      "Test accuracy: 0.9991397773954567\n",
      "\n",
      "C: 0.001\n",
      "Coefficient of each feature: [[-7.37761748e-05  0.00000000e+00  0.00000000e+00 -2.83627859e-01\n",
      "   0.00000000e+00  0.00000000e+00  0.00000000e+00  0.00000000e+00\n",
      "   0.00000000e+00  0.00000000e+00  0.00000000e+00  0.00000000e+00\n",
      "   0.00000000e+00  0.00000000e+00 -3.81678798e-01  0.00000000e+00\n",
      "   0.00000000e+00 -1.04414097e-01  0.00000000e+00  0.00000000e+00\n",
      "   0.00000000e+00  0.00000000e+00  0.00000000e+00  0.00000000e+00\n",
      "   0.00000000e+00  0.00000000e+00  0.00000000e+00  0.00000000e+00\n",
      "   0.00000000e+00 -5.77114270e-03]]\n",
      "Training accuracy: 0.9934341328534749\n",
      "Test accuracy: 0.9933113303605913\n",
      "\n"
     ]
    }
   ],
   "source": [
    "C = [10, 1, .1, .001]\n",
    "\n",
    "for c in C:\n",
    "    clf = LogisticRegression(penalty='l1', C=c, solver='liblinear')\n",
    "    clf.fit(X_train, y_train)\n",
    "    print('C:', c)\n",
    "    print('Coefficient of each feature:', clf.coef_)\n",
    "    print('Training accuracy:', clf.score(X_train_std, y_train))\n",
    "    print('Test accuracy:', clf.score(X_test_std, y_test))\n",
    "    print('')"
   ]
  },
  {
   "cell_type": "code",
   "execution_count": 111,
   "metadata": {},
   "outputs": [
    {
     "name": "stdout",
     "output_type": "stream",
     "text": [
      "C: 10\n",
      "Coefficient of each feature: [[-8.94549492e-05  1.97945300e-01 -3.64664126e-01 -8.61960105e-01\n",
      "   1.58735680e-01 -5.14909084e-02 -7.35502988e-02  9.86330941e-02\n",
      "  -1.83581205e-01 -4.10982500e-01 -2.45477956e-01 -1.61185372e-01\n",
      "  -6.15540679e-02 -2.69335138e-01 -7.85484105e-01 -2.71710949e-01\n",
      "  -3.08136772e-01 -5.24778367e-01 -1.64287697e-02  6.07515605e-02\n",
      "   6.17315951e-02  1.80028133e-01  2.27952593e-01  4.39481219e-02\n",
      "  -2.99681458e-02 -2.06601237e-01  3.58380569e-02 -6.03006269e-02\n",
      "   3.86275464e-02 -7.13067795e-03]]\n",
      "Training accuracy: 0.8223485264104984\n",
      "Test accuracy: 0.8215125873389277\n",
      "\n",
      "C: 1\n",
      "Coefficient of each feature: [[-8.94481317e-05  1.97857344e-01 -3.64574314e-01 -8.61712755e-01\n",
      "   1.58700484e-01 -5.14609242e-02 -7.35311976e-02  9.86447918e-02\n",
      "  -1.83550551e-01 -4.10825002e-01 -2.45395599e-01 -1.61130396e-01\n",
      "  -6.15682961e-02 -2.69228594e-01 -7.85234636e-01 -2.71654640e-01\n",
      "  -3.08031107e-01 -5.24579907e-01 -1.64030885e-02  6.07253278e-02\n",
      "   6.17099745e-02  1.79975582e-01  2.27894728e-01  4.39348939e-02\n",
      "  -2.99607136e-02 -2.06558694e-01  3.58320050e-02 -6.02871725e-02\n",
      "   3.86165591e-02 -7.13135014e-03]]\n",
      "Training accuracy: 0.8223660822050078\n",
      "Test accuracy: 0.8215301429022858\n",
      "\n",
      "C: 0.1\n",
      "Coefficient of each feature: [[-8.93801496e-05  1.96980254e-01 -3.63677826e-01 -8.59244476e-01\n",
      "   1.58348939e-01 -5.11619357e-02 -7.33403696e-02  9.87624007e-02\n",
      "  -1.83245507e-01 -4.09253200e-01 -2.44573674e-01 -1.60582227e-01\n",
      "  -6.17103420e-02 -2.68165391e-01 -7.82744775e-01 -2.71093588e-01\n",
      "  -3.06976894e-01 -5.22599422e-01 -1.61466668e-02  6.04634823e-02\n",
      "   6.14945208e-02  1.79451623e-01  2.27317808e-01  4.38030648e-02\n",
      "  -2.98865400e-02 -2.06134803e-01  3.57717330e-02 -6.01531200e-02\n",
      "   3.85068244e-02 -7.13802556e-03]]\n",
      "Training accuracy: 0.8224319164344182\n",
      "Test accuracy: 0.8215828095923599\n",
      "\n",
      "C: 0.001\n",
      "Coefficient of each feature: [[-8.58236322e-05  9.91054545e-02 -2.51605057e-01 -5.97613664e-01\n",
      "   1.18816416e-01 -3.02499791e-02 -5.38984763e-02  7.63303976e-02\n",
      "  -1.30499885e-01 -2.60894505e-01 -1.60640918e-01 -1.03326920e-01\n",
      "  -5.35445086e-02 -1.69743902e-01 -5.24989763e-01 -1.87789679e-01\n",
      "  -1.97102129e-01 -3.28663220e-01  4.53489716e-04  3.71201148e-02\n",
      "   3.64760782e-02  1.17226872e-01  1.55344184e-01  2.91696243e-02\n",
      "  -2.10639038e-02 -1.44494012e-01  2.50119788e-02 -4.05756516e-02\n",
      "   2.35862364e-02 -8.31470964e-03]]\n",
      "Training accuracy: 0.8267330860892274\n",
      "Test accuracy: 0.8252168112074717\n",
      "\n"
     ]
    }
   ],
   "source": [
    "C = [10, 1, .1, .001]\n",
    "\n",
    "for c in C:\n",
    "    clf = LogisticRegression(penalty='l2', C=c, solver='liblinear')\n",
    "    clf.fit(X_train, y_train)\n",
    "    print('C:', c)\n",
    "    print('Coefficient of each feature:', clf.coef_)\n",
    "    print('Training accuracy:', clf.score(X_train_std, y_train))\n",
    "    print('Test accuracy:', clf.score(X_test_std, y_test))\n",
    "    print('')"
   ]
  },
  {
   "cell_type": "markdown",
   "metadata": {},
   "source": [
    "So, Now number of coefficients with zero values is zero. So, now it is clear that Ridge regularisation (L2 Regularisation) does not shrink the coefficients to zero."
   ]
  },
  {
   "cell_type": "code",
   "execution_count": 72,
   "metadata": {},
   "outputs": [],
   "source": [
    "from sklearn.metrics import classification_report\n",
    "y_predict_test = model.predict(X_test)\n",
    "y_predict_training = model.predict(X_train)\n"
   ]
  },
  {
   "cell_type": "code",
   "execution_count": 73,
   "metadata": {},
   "outputs": [
    {
     "name": "stdout",
     "output_type": "stream",
     "text": [
      "[Training Classification Report]\n",
      "              precision    recall  f1-score   support\n",
      "\n",
      "           0       1.00      1.00      1.00    227451\n",
      "           1       0.75      0.69      0.72       394\n",
      "\n",
      "   micro avg       1.00      1.00      1.00    227845\n",
      "   macro avg       0.88      0.84      0.86    227845\n",
      "weighted avg       1.00      1.00      1.00    227845\n",
      "\n",
      "[Test Classification Report]\n",
      "              precision    recall  f1-score   support\n",
      "\n",
      "           0       1.00      1.00      1.00     56864\n",
      "           1       0.75      0.60      0.67        98\n",
      "\n",
      "   micro avg       1.00      1.00      1.00     56962\n",
      "   macro avg       0.87      0.80      0.83     56962\n",
      "weighted avg       1.00      1.00      1.00     56962\n",
      "\n"
     ]
    }
   ],
   "source": [
    "print(\"[Training Classification Report]\")\n",
    "print(classification_report(y_train, y_predict_training))\n",
    "\n",
    "print(\"[Test Classification Report]\")\n",
    "print(classification_report(y_test, y_predict_test))"
   ]
  },
  {
   "cell_type": "markdown",
   "metadata": {},
   "source": [
    "The classification report metrics are similar in training and Test and it is too good to be true. The reason being due to the imbalanced data set and hence it needs to be addressed."
   ]
  },
  {
   "cell_type": "code",
   "execution_count": 74,
   "metadata": {},
   "outputs": [
    {
     "name": "stdout",
     "output_type": "stream",
     "text": [
      "No Frauds 99.83 % of the dataset\n",
      "Frauds 0.17 % of the dataset\n"
     ]
    }
   ],
   "source": [
    "from sklearn.model_selection import train_test_split\n",
    "from sklearn.model_selection import StratifiedShuffleSplit\n",
    "\n",
    "print('No Frauds', round(data['Class'].value_counts()[0]/len(data) * 100,2), '% of the dataset')\n",
    "print('Frauds', round(data['Class'].value_counts()[1]/len(data) * 100,2), '% of the dataset')\n"
   ]
  },
  {
   "cell_type": "code",
   "execution_count": 55,
   "metadata": {},
   "outputs": [],
   "source": [
    "from sklearn.metrics import classification_report, precision_score, f1_score, accuracy_score"
   ]
  },
  {
   "cell_type": "code",
   "execution_count": 75,
   "metadata": {},
   "outputs": [],
   "source": [
    "from sklearn.metrics import classification_report, precision_score, f1_score, accuracy_score\n",
    "def printScores(model, X_train, X_test, y_train, y_test):\n",
    "    y_predict_test = model.predict(X_test)\n",
    "    y_predict_training = model.predict(X_train)\n",
    "    print(\"[Training Classification Report]\")\n",
    "    #print(classification_report(y_train, y_predict_training))\n",
    "    print(\"Precision = \", precision_score(y_train, y_predict_training))\n",
    "    print(\"Recall = \", recall_score(y_train, y_predict_training))\n",
    "    print(\"F1 Score = \", f1_score(y_train, y_predict_training))\n",
    "\n",
    "    print(\"\")\n",
    "    print(\"[Test Classification Report]\")\n",
    "    #print(classification_report(y_test, y_predict_test))\n",
    "    print(\"Precision = \", precision_score(y_test, y_predict_test))\n",
    "    print(\"Recall = \", recall_score(y_test, y_predict_test))\n",
    "    print(\"F1 Score = \", f1_score(y_test, y_predict_test))\n",
    "    return"
   ]
  },
  {
   "cell_type": "code",
   "execution_count": 76,
   "metadata": {},
   "outputs": [
    {
     "name": "stdout",
     "output_type": "stream",
     "text": [
      "[Training Classification Report]\n",
      "Precision =  0.7520891364902507\n",
      "Recall =  0.6852791878172588\n",
      "F1 Score =  0.7171314741035856\n",
      "\n",
      "[Test Classification Report]\n",
      "Precision =  0.7468354430379747\n",
      "Recall =  0.6020408163265306\n",
      "F1 Score =  0.6666666666666667\n"
     ]
    }
   ],
   "source": [
    "printScores(model, X_train, X_test, y_train, y_test)"
   ]
  },
  {
   "cell_type": "code",
   "execution_count": null,
   "metadata": {},
   "outputs": [],
   "source": []
  },
  {
   "cell_type": "code",
   "execution_count": 45,
   "metadata": {},
   "outputs": [
    {
     "name": "stdout",
     "output_type": "stream",
     "text": [
      "Dropping  Time\n"
     ]
    },
    {
     "name": "stderr",
     "output_type": "stream",
     "text": [
      "C:\\ProgramData\\Anaconda3\\lib\\site-packages\\sklearn\\linear_model\\logistic.py:758: ConvergenceWarning: lbfgs failed to converge. Increase the number of iterations.\n",
      "  \"of iterations.\", ConvergenceWarning)\n"
     ]
    },
    {
     "name": "stdout",
     "output_type": "stream",
     "text": [
      "[Training Classification Report]\n",
      "MCC =  0.7603272238524483\n",
      "Precision =  0.8975265017667845\n",
      "Recall =  0.6446700507614214\n",
      "F1 Score =  0.7503692762186115\n",
      "\n",
      "[Test Classification Report]\n",
      "MCC =  0.701248626771345\n",
      "Precision =  0.8615384615384616\n",
      "Recall =  0.5714285714285714\n",
      "F1 Score =  0.6871165644171779\n",
      "Dropping  V1\n",
      "[Training Classification Report]\n",
      "MCC =  0.7384124151280429\n",
      "Precision =  0.8466666666666667\n",
      "Recall =  0.6446700507614214\n",
      "F1 Score =  0.7319884726224785\n",
      "\n",
      "[Test Classification Report]\n",
      "MCC =  0.664365315228303\n",
      "Precision =  0.76\n",
      "Recall =  0.5816326530612245\n",
      "F1 Score =  0.6589595375722543\n",
      "Dropping  V2\n",
      "[Training Classification Report]\n",
      "MCC =  0.7202443846977138\n",
      "Precision =  0.8217821782178217\n",
      "Recall =  0.631979695431472\n",
      "F1 Score =  0.7144906743185078\n",
      "\n",
      "[Test Classification Report]\n",
      "MCC =  0.701953774854333\n",
      "Precision =  0.8194444444444444\n",
      "Recall =  0.6020408163265306\n",
      "F1 Score =  0.6941176470588234\n",
      "Dropping  V3\n",
      "[Training Classification Report]\n",
      "MCC =  0.7617170969299201\n",
      "Precision =  0.8733333333333333\n",
      "Recall =  0.6649746192893401\n",
      "F1 Score =  0.7550432276657061\n",
      "\n",
      "[Test Classification Report]\n",
      "MCC =  0.7030314259729361\n",
      "Precision =  0.8507462686567164\n",
      "Recall =  0.5816326530612245\n",
      "F1 Score =  0.6909090909090908\n",
      "Dropping  V4\n",
      "[Training Classification Report]\n",
      "MCC =  0.7316679912634656\n",
      "Precision =  0.8445945945945946\n",
      "Recall =  0.6345177664974619\n",
      "F1 Score =  0.7246376811594204\n",
      "\n",
      "[Test Classification Report]\n",
      "MCC =  0.701953774854333\n",
      "Precision =  0.8194444444444444\n",
      "Recall =  0.6020408163265306\n",
      "F1 Score =  0.6941176470588234\n",
      "Dropping  V5\n",
      "[Training Classification Report]\n",
      "MCC =  0.7296731594523389\n",
      "Precision =  0.8366666666666667\n",
      "Recall =  0.6370558375634517\n",
      "F1 Score =  0.723342939481268\n",
      "\n",
      "[Test Classification Report]\n",
      "MCC =  0.6978279580265762\n",
      "Precision =  0.8382352941176471\n",
      "Recall =  0.5816326530612245\n",
      "F1 Score =  0.6867469879518072\n",
      "Dropping  V6\n",
      "[Training Classification Report]\n",
      "MCC =  0.76698759594738\n",
      "Precision =  0.8721311475409836\n",
      "Recall =  0.6751269035532995\n",
      "F1 Score =  0.7610872675250357\n",
      "\n",
      "[Test Classification Report]\n",
      "MCC =  0.7068942699492928\n",
      "Precision =  0.8309859154929577\n",
      "Recall =  0.6020408163265306\n",
      "F1 Score =  0.6982248520710058\n",
      "Dropping  V7\n",
      "[Training Classification Report]\n",
      "MCC =  0.7513079063985857\n",
      "Precision =  0.8529411764705882\n",
      "Recall =  0.6624365482233503\n",
      "F1 Score =  0.7457142857142857\n",
      "\n",
      "[Test Classification Report]\n",
      "MCC =  0.720804641181917\n",
      "Precision =  0.8787878787878788\n",
      "Recall =  0.5918367346938775\n",
      "F1 Score =  0.7073170731707316\n",
      "Dropping  V8\n",
      "[Training Classification Report]\n",
      "MCC =  0.7558909264794508\n",
      "Precision =  0.8666666666666667\n",
      "Recall =  0.6598984771573604\n",
      "F1 Score =  0.7492795389048991\n",
      "\n",
      "[Test Classification Report]\n",
      "MCC =  0.7030314259729361\n",
      "Precision =  0.8507462686567164\n",
      "Recall =  0.5816326530612245\n",
      "F1 Score =  0.6909090909090908\n",
      "Dropping  V9\n"
     ]
    },
    {
     "name": "stderr",
     "output_type": "stream",
     "text": [
      "C:\\ProgramData\\Anaconda3\\lib\\site-packages\\sklearn\\linear_model\\logistic.py:758: ConvergenceWarning: lbfgs failed to converge. Increase the number of iterations.\n",
      "  \"of iterations.\", ConvergenceWarning)\n"
     ]
    },
    {
     "name": "stdout",
     "output_type": "stream",
     "text": [
      "[Training Classification Report]\n",
      "MCC =  0.7201981048580797\n",
      "Precision =  0.8384879725085911\n",
      "Recall =  0.6192893401015228\n",
      "F1 Score =  0.7124087591240875\n",
      "\n",
      "[Test Classification Report]\n",
      "MCC =  0.6959005527982292\n",
      "Precision =  0.8484848484848485\n",
      "Recall =  0.5714285714285714\n",
      "F1 Score =  0.6829268292682927\n",
      "Dropping  V10\n",
      "[Training Classification Report]\n",
      "MCC =  0.7270352540307702\n",
      "Precision =  0.8406779661016949\n",
      "Recall =  0.6294416243654822\n",
      "F1 Score =  0.7198838896952104\n",
      "\n",
      "[Test Classification Report]\n",
      "MCC =  0.6906725482238516\n",
      "Precision =  0.835820895522388\n",
      "Recall =  0.5714285714285714\n",
      "F1 Score =  0.6787878787878787\n",
      "Dropping  V11\n",
      "[Training Classification Report]\n",
      "MCC =  0.7417633441542574\n",
      "Precision =  0.847682119205298\n",
      "Recall =  0.649746192893401\n",
      "F1 Score =  0.735632183908046\n",
      "\n",
      "[Test Classification Report]\n",
      "MCC =  0.7041351837035832\n",
      "Precision =  0.8108108108108109\n",
      "Recall =  0.6122448979591837\n",
      "F1 Score =  0.6976744186046512\n",
      "Dropping  V12\n",
      "[Training Classification Report]\n",
      "MCC =  0.7101022982917885\n",
      "Precision =  0.8253424657534246\n",
      "Recall =  0.6116751269035533\n",
      "F1 Score =  0.7026239067055394\n",
      "\n",
      "[Test Classification Report]\n",
      "MCC =  0.6877572283181294\n",
      "Precision =  0.8142857142857143\n",
      "Recall =  0.5816326530612245\n",
      "F1 Score =  0.6785714285714286\n",
      "Dropping  V13\n",
      "[Training Classification Report]\n",
      "MCC =  0.7421426966497422\n",
      "Precision =  0.8552188552188552\n",
      "Recall =  0.6446700507614214\n",
      "F1 Score =  0.735166425470333\n",
      "\n",
      "[Test Classification Report]\n",
      "MCC =  0.6971150488888787\n",
      "Precision =  0.8082191780821918\n",
      "Recall =  0.6020408163265306\n",
      "F1 Score =  0.6900584795321637\n",
      "Dropping  V14\n"
     ]
    },
    {
     "name": "stderr",
     "output_type": "stream",
     "text": [
      "C:\\ProgramData\\Anaconda3\\lib\\site-packages\\sklearn\\linear_model\\logistic.py:758: ConvergenceWarning: lbfgs failed to converge. Increase the number of iterations.\n",
      "  \"of iterations.\", ConvergenceWarning)\n"
     ]
    },
    {
     "name": "stdout",
     "output_type": "stream",
     "text": [
      "[Training Classification Report]\n",
      "MCC =  0.7421820357724104\n",
      "Precision =  0.8655172413793103\n",
      "Recall =  0.6370558375634517\n",
      "F1 Score =  0.7339181286549707\n",
      "\n",
      "[Test Classification Report]\n",
      "MCC =  0.6805592531629351\n",
      "Precision =  0.8115942028985508\n",
      "Recall =  0.5714285714285714\n",
      "F1 Score =  0.6706586826347305\n",
      "Dropping  V15\n",
      "[Training Classification Report]\n",
      "MCC =  0.7446610723323503\n",
      "Precision =  0.8610169491525423\n",
      "Recall =  0.6446700507614214\n",
      "F1 Score =  0.737300435413643\n",
      "\n",
      "[Test Classification Report]\n",
      "MCC =  0.7240316187047102\n",
      "Precision =  0.8571428571428571\n",
      "Recall =  0.6122448979591837\n",
      "F1 Score =  0.7142857142857143\n",
      "Dropping  V16\n",
      "[Training Classification Report]\n",
      "MCC =  0.7349686483312677\n",
      "Precision =  0.8290322580645161\n",
      "Recall =  0.6522842639593909\n",
      "F1 Score =  0.7301136363636364\n",
      "\n",
      "[Test Classification Report]\n",
      "MCC =  0.699411245770977\n",
      "Precision =  0.8\n",
      "Recall =  0.6122448979591837\n",
      "F1 Score =  0.6936416184971098\n",
      "Dropping  V17\n",
      "[Training Classification Report]\n",
      "MCC =  0.746738681076433\n",
      "Precision =  0.8590604026845637\n",
      "Recall =  0.649746192893401\n",
      "F1 Score =  0.7398843930635838\n",
      "\n",
      "[Test Classification Report]\n",
      "MCC =  0.6948881540792793\n",
      "Precision =  0.8169014084507042\n",
      "Recall =  0.5918367346938775\n",
      "F1 Score =  0.6863905325443787\n",
      "Dropping  V18\n",
      "[Training Classification Report]\n",
      "MCC =  0.7258026384517706\n",
      "Precision =  0.8378378378378378\n",
      "Recall =  0.6294416243654822\n",
      "F1 Score =  0.7188405797101449\n",
      "\n",
      "[Test Classification Report]\n",
      "MCC =  0.6877572283181294\n",
      "Precision =  0.8142857142857143\n",
      "Recall =  0.5816326530612245\n",
      "F1 Score =  0.6785714285714286\n",
      "Dropping  V19\n",
      "[Training Classification Report]\n",
      "MCC =  0.7379701866154021\n",
      "Precision =  0.8489932885906041\n",
      "Recall =  0.6421319796954315\n",
      "F1 Score =  0.73121387283237\n",
      "\n",
      "[Test Classification Report]\n",
      "MCC =  0.7068942699492928\n",
      "Precision =  0.8309859154929577\n",
      "Recall =  0.6020408163265306\n",
      "F1 Score =  0.6982248520710058\n",
      "Dropping  V20\n"
     ]
    },
    {
     "name": "stderr",
     "output_type": "stream",
     "text": [
      "C:\\ProgramData\\Anaconda3\\lib\\site-packages\\sklearn\\linear_model\\logistic.py:758: ConvergenceWarning: lbfgs failed to converge. Increase the number of iterations.\n",
      "  \"of iterations.\", ConvergenceWarning)\n"
     ]
    },
    {
     "name": "stdout",
     "output_type": "stream",
     "text": [
      "[Training Classification Report]\n",
      "MCC =  0.7504736521070523\n",
      "Precision =  0.8576158940397351\n",
      "Recall =  0.6573604060913706\n",
      "F1 Score =  0.7442528735632186\n",
      "\n",
      "[Test Classification Report]\n",
      "MCC =  0.6959005527982292\n",
      "Precision =  0.8484848484848485\n",
      "Recall =  0.5714285714285714\n",
      "F1 Score =  0.6829268292682927\n",
      "Dropping  V21\n",
      "[Training Classification Report]\n",
      "MCC =  0.7375333440751606\n",
      "Precision =  0.8513513513513513\n",
      "Recall =  0.6395939086294417\n",
      "F1 Score =  0.7304347826086958\n",
      "\n",
      "[Test Classification Report]\n",
      "MCC =  0.7138763281769754\n",
      "Precision =  0.8333333333333334\n",
      "Recall =  0.6122448979591837\n",
      "F1 Score =  0.7058823529411765\n",
      "Dropping  V22\n",
      "[Training Classification Report]\n",
      "MCC =  0.7640984553972642\n",
      "Precision =  0.8688524590163934\n",
      "Recall =  0.6725888324873096\n",
      "F1 Score =  0.7582260371959944\n",
      "\n",
      "[Test Classification Report]\n",
      "MCC =  0.6877572283181294\n",
      "Precision =  0.8142857142857143\n",
      "Recall =  0.5816326530612245\n",
      "F1 Score =  0.6785714285714286\n",
      "Dropping  V23\n",
      "[Training Classification Report]\n",
      "MCC =  0.7499229986837048\n",
      "Precision =  0.8338557993730408\n",
      "Recall =  0.6751269035532995\n",
      "F1 Score =  0.7461430575035063\n",
      "\n",
      "[Test Classification Report]\n",
      "MCC =  0.7041351837035832\n",
      "Precision =  0.8108108108108109\n",
      "Recall =  0.6122448979591837\n",
      "F1 Score =  0.6976744186046512\n",
      "Dropping  V24\n",
      "[Training Classification Report]\n",
      "MCC =  0.7384124151280429\n",
      "Precision =  0.8466666666666667\n",
      "Recall =  0.6446700507614214\n",
      "F1 Score =  0.7319884726224785\n",
      "\n",
      "[Test Classification Report]\n",
      "MCC =  0.7068942699492928\n",
      "Precision =  0.8309859154929577\n",
      "Recall =  0.6020408163265306\n",
      "F1 Score =  0.6982248520710058\n",
      "Dropping  V25\n",
      "[Training Classification Report]\n",
      "MCC =  0.7591235427429408\n",
      "Precision =  0.8576051779935275\n",
      "Recall =  0.6725888324873096\n",
      "F1 Score =  0.7539118065433854\n",
      "\n",
      "[Test Classification Report]\n",
      "MCC =  0.7017701520294497\n",
      "Precision =  0.7922077922077922\n",
      "Recall =  0.6224489795918368\n",
      "F1 Score =  0.6971428571428572\n",
      "Dropping  V26\n",
      "[Training Classification Report]\n",
      "MCC =  0.7570767508132118\n",
      "Precision =  0.8594771241830066\n",
      "Recall =  0.6675126903553299\n",
      "F1 Score =  0.7514285714285713\n",
      "\n",
      "[Test Classification Report]\n",
      "MCC =  0.6877572283181294\n",
      "Precision =  0.8142857142857143\n",
      "Recall =  0.5816326530612245\n",
      "F1 Score =  0.6785714285714286\n",
      "Dropping  V27\n",
      "[Training Classification Report]\n",
      "MCC =  0.7383622687910887\n",
      "Precision =  0.856655290102389\n",
      "Recall =  0.6370558375634517\n",
      "F1 Score =  0.7307132459970888\n",
      "\n",
      "[Test Classification Report]\n",
      "MCC =  0.7119401552425166\n",
      "Precision =  0.8428571428571429\n",
      "Recall =  0.6020408163265306\n",
      "F1 Score =  0.7023809523809523\n",
      "Dropping  V28\n",
      "[Training Classification Report]\n",
      "MCC =  0.7396496083532168\n",
      "Precision =  0.8494983277591973\n",
      "Recall =  0.6446700507614214\n",
      "F1 Score =  0.7330447330447332\n",
      "\n",
      "[Test Classification Report]\n",
      "MCC =  0.7189003858193065\n",
      "Precision =  0.8450704225352113\n",
      "Recall =  0.6122448979591837\n",
      "F1 Score =  0.7100591715976331\n",
      "Dropping  Amount\n",
      "[Training Classification Report]\n",
      "MCC =  0.7763459723156493\n",
      "Precision =  0.8770226537216829\n",
      "Recall =  0.6878172588832487\n",
      "F1 Score =  0.770981507823613\n",
      "\n",
      "[Test Classification Report]\n",
      "MCC =  0.7207964778320743\n",
      "Precision =  0.8356164383561644\n",
      "Recall =  0.6224489795918368\n",
      "F1 Score =  0.7134502923976609\n"
     ]
    },
    {
     "data": {
      "text/plain": [
       "[<matplotlib.lines.Line2D at 0x248a7733550>,\n",
       " <matplotlib.lines.Line2D at 0x248a99684a8>,\n",
       " <matplotlib.lines.Line2D at 0x248a9968c18>]"
      ]
     },
     "execution_count": 45,
     "metadata": {},
     "output_type": "execute_result"
    },
    {
     "data": {
      "image/png": "[encoded data removed]",
      "text/plain": [
       "<Figure size 432x288 with 1 Axes>"
      ]
     },
     "metadata": {
      "needs_background": "light"
     },
     "output_type": "display_data"
    }
   ],
   "source": [
    "xAx=[]\n",
    "accAx=[]\n",
    "precAx=[]\n",
    "recAx=[]\n",
    "f1Ax=[]\n",
    "for idx, val in enumerate(X_train.columns):\n",
    "    print(\"Dropping \", val)\n",
    "    model = LogisticRegression(solver='lbfgs', max_iter=500, C=10).fit(X_train, y_train)\n",
    "    X_train_new = X_train.drop(val, axis=1)\n",
    "    X_test_new = X_test.drop(val, axis=1)\n",
    "    model.fit(X_train_new, y_train)\n",
    "    printScores(model, X_train_new, X_test_new, y_train, y_test)\n",
    "    y_predict_training = model.predict(X_train_new)\n",
    "    xAx = np.append(xAx, val)\n",
    "    accAx = np.append(accAx, accuracy_score(y_train, y_predict_training))\n",
    "    precAx = np.append(precAx, precision_score(y_train, y_predict_training))\n",
    "    recAx = np.append(recAx, recall_score(y_train, y_predict_training))\n",
    "    f1Ax = np.append(f1Ax, f1_score(y_train, y_predict_training))\n",
    "plt.plot(xAx, accAx, precAx, recAx, f1Ax)"
   ]
  },
  {
   "cell_type": "code",
   "execution_count": 89,
   "metadata": {},
   "outputs": [
    {
     "data": {
      "text/plain": [
       "[<matplotlib.lines.Line2D at 0x248a7060da0>]"
      ]
     },
     "execution_count": 89,
     "metadata": {},
     "output_type": "execute_result"
    },
    {
     "data": {
      "image/png": "[encoded data removed]",
      "text/plain": [
       "<Figure size 432x288 with 1 Axes>"
      ]
     },
     "metadata": {
      "needs_background": "light"
     },
     "output_type": "display_data"
    }
   ],
   "source": [
    "plt.xticks(list(range(0, 100,2))) \n",
    "plt.plot(xAx, precAx)"
   ]
  },
  {
   "cell_type": "code",
   "execution_count": 50,
   "metadata": {},
   "outputs": [
    {
     "data": {
      "text/plain": [
       "[<matplotlib.lines.Line2D at 0x248a9928080>]"
      ]
     },
     "execution_count": 50,
     "metadata": {},
     "output_type": "execute_result"
    },
    {
     "data": {
      "image/png": "[encoded data removed]",
      "text/plain": [
       "<Figure size 432x288 with 1 Axes>"
      ]
     },
     "metadata": {
      "needs_background": "light"
     },
     "output_type": "display_data"
    }
   ],
   "source": [
    "plt.plot(recAx)"
   ]
  },
  {
   "cell_type": "code",
   "execution_count": 91,
   "metadata": {},
   "outputs": [
    {
     "data": {
      "text/plain": [
       "[<matplotlib.lines.Line2D at 0x248a7182780>,\n",
       " <matplotlib.lines.Line2D at 0x248a8ea02b0>]"
      ]
     },
     "execution_count": 91,
     "metadata": {},
     "output_type": "execute_result"
    },
    {
     "data": {
      "image/png": "[encoded data removed]",
      "text/plain": [
       "<Figure size 432x288 with 1 Axes>"
      ]
     },
     "metadata": {
      "needs_background": "light"
     },
     "output_type": "display_data"
    }
   ],
   "source": [
    "plt.xticks(list(range(0, 100,2))) \n",
    "plt.plot(xAx, precAx, recAx)"
   ]
  },
  {
   "cell_type": "code",
   "execution_count": null,
   "metadata": {},
   "outputs": [],
   "source": []
  },
  {
   "cell_type": "code",
   "execution_count": null,
   "metadata": {},
   "outputs": [],
   "source": [
    "#Random under-sampling:\n",
    "count_class_0, count_class_1 = data.Class.value_counts()\n",
    "\n",
    "# Divide by class\n",
    "df_class_0 = df[df['Class'] == 0]\n",
    "df_class_1 = df[df['Class'] == 1]\n",
    "\n",
    "df_class_0_under = df_class_0.sample(count_class_1)\n",
    "df_test_under = pd.concat([df_class_0_under, df_class_1], axis=0)\n",
    "\n",
    "print('Random under-sampling:')\n",
    "print(df_test_under.Class.value_counts())\n",
    "df_test_under.Class.value_counts().plot(kind='bar',title = 'count(Class)')"
   ]
  },
  {
   "cell_type": "code",
   "execution_count": 92,
   "metadata": {},
   "outputs": [],
   "source": [
    "def plot_2d_space(X, y, label='Classes'):   \n",
    "    colors = ['#1F77B4', '#FF7F0E']\n",
    "    markers = ['o', 's']\n",
    "    for l, c, m in zip(np.unique(y), colors, markers):\n",
    "        plt.scatter(\n",
    "            X[y==l, 0],\n",
    "            X[y==l, 1],\n",
    "            c=c, label=l, marker=m\n",
    "        )\n",
    "    plt.title(label)\n",
    "    plt.legend(loc='upper right')\n",
    "    plt.show()"
   ]
  },
  {
   "cell_type": "code",
   "execution_count": 24,
   "metadata": {},
   "outputs": [],
   "source": [
    "import imblearn"
   ]
  },
  {
   "cell_type": "code",
   "execution_count": 25,
   "metadata": {
    "scrolled": true
   },
   "outputs": [],
   "source": [
    "from imblearn.under_sampling import RandomUnderSampler\n",
    "\n",
    "rus = RandomUnderSampler()\n",
    "X_rus, y_rus, id_rus = rus.fit_sample(X,y)"
   ]
  },
  {
   "cell_type": "code",
   "execution_count": 44,
   "metadata": {},
   "outputs": [
    {
     "data": {
      "image/png": "[encoded data removed]",
      "text/plain": [
       "<Figure size 432x288 with 1 Axes>"
      ]
     },
     "metadata": {
      "needs_background": "light"
     },
     "output_type": "display_data"
    }
   ],
   "source": [
    "plot_2d_space(X_rus, y_rus, 'Random under-sampling')"
   ]
  },
  {
   "cell_type": "code",
   "execution_count": 30,
   "metadata": {},
   "outputs": [],
   "source": [
    "from imblearn.over_sampling import RandomOverSampler\n",
    "\n",
    "ros = RandomOverSampler()\n",
    "X_ros, y_ros = ros.fit_sample(X, y)"
   ]
  },
  {
   "cell_type": "code",
   "execution_count": 31,
   "metadata": {},
   "outputs": [
    {
     "data": {
      "image/png": "[encoded data removed]",
      "text/plain": [
       "<Figure size 432x288 with 1 Axes>"
      ]
     },
     "metadata": {
      "needs_background": "light"
     },
     "output_type": "display_data"
    }
   ],
   "source": [
    "plot_2d_space(X_ros, y_ros, 'Random over-sampling')"
   ]
  },
  {
   "cell_type": "code",
   "execution_count": null,
   "metadata": {},
   "outputs": [],
   "source": []
  },
  {
   "cell_type": "code",
   "execution_count": null,
   "metadata": {},
   "outputs": [],
   "source": []
  },
  {
   "cell_type": "code",
   "execution_count": null,
   "metadata": {},
   "outputs": [],
   "source": []
  }
 ],
 "metadata": {
  "kernelspec": {
   "display_name": "Python 3",
   "language": "python",
   "name": "python3"
  },
  "language_info": {
   "codemirror_mode": {
    "name": "ipython",
    "version": 3
   },
   "file_extension": ".py",
   "mimetype": "text/x-python",
   "name": "python",
   "nbconvert_exporter": "python",
   "pygments_lexer": "ipython3",
   "version": "3.7.1"
  }
 },
 "nbformat": 4,
 "nbformat_minor": 2
}
